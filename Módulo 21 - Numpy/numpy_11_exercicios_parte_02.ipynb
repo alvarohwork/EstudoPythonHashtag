{
 "cells": [
  {
   "cell_type": "markdown",
   "metadata": {},
   "source": [
    "## Exercício\n",
    "\n",
    "Você é um analista de dados em uma empresa e conduziu uma pesquisa de satisfação do cliente durante uma semana. Você perguntou as clientes para classificar seu nível de satisfação com o serviço ao cliente em uma escala de 0 a 10. Você coletou respostas de 30 clientes por dia durante 7 dias, resultando em um total de 210 respostas.\n",
    "\n",
    "No entanto, os dados que você recebeu estão em um array 1D de 210 elementos. Reorganize os dados de forma a ter as respostas por dia e faça uma análise descritiva básica, calculando a média geral de satisfação e a média diária."
   ]
  },
  {
   "cell_type": "code",
   "execution_count": 18,
   "metadata": {
    "ExecuteTime": {
     "end_time": "2023-07-03T12:12:12.700234800Z",
     "start_time": "2023-07-03T12:12:12.677347900Z"
    },
    "collapsed": false,
    "jupyter": {
     "outputs_hidden": false
    }
   },
   "outputs": [
    {
     "name": "stdout",
     "output_type": "stream",
     "text": [
      "A média geral de satisfação é de 5.147619047619048\n",
      "A satisfação média do dia 1 é de 5.5\n",
      "A satisfação média do dia 2 é de 5.066666666666666\n",
      "A satisfação média do dia 3 é de 5.366666666666666\n",
      "A satisfação média do dia 4 é de 5.1\n",
      "A satisfação média do dia 5 é de 4.966666666666667\n",
      "A satisfação média do dia 6 é de 5.0\n",
      "A satisfação média do dia 7 é de 5.033333333333333\n",
      "[5.5        5.06666667 5.36666667 5.1        4.96666667 5.\n",
      " 5.03333333]\n",
      "A satisfação média do dia 1 é de 5.5\n",
      "A satisfação média do dia 2 é de 5.066666666666666\n",
      "A satisfação média do dia 3 é de 5.366666666666666\n",
      "A satisfação média do dia 4 é de 5.1\n",
      "A satisfação média do dia 5 é de 4.966666666666667\n",
      "A satisfação média do dia 6 é de 5.0\n",
      "A satisfação média do dia 7 é de 5.033333333333333\n"
     ]
    }
   ],
   "source": [
    "import numpy as np\n",
    "\n",
    "# considere os seguintes dados aleatórios como início\n",
    "rng = np.random.default_rng(seed=42)\n",
    "respostas = rng.integers(low=0, high=10, size=210, endpoint=True)\n",
    "#print(respostas)\n",
    "respostas_reshaped = np.reshape(respostas, (7,30))\n",
    "\n",
    "print(f'A média geral de satisfação é de {respostas_reshaped.mean()}')\n",
    "for i in range(7):\n",
    "    print(f'A satisfação média do dia {i+1} é de {respostas_reshaped[i].mean()}')\n",
    "\n",
    "media_diaria = respostas_reshaped.mean(axis=1)\n",
    "print(media_diaria)\n",
    "for i in range(media_diaria.size):\n",
    "    print(f'A satisfação média do dia {i+1} é de {media_diaria[i]}')"
   ]
  },
  {
   "cell_type": "markdown",
   "metadata": {},
   "source": [
    "O seguinte modelo pode ser pensado para os dados recebidos:\n",
    "\n",
    "    dia 1 cliente 1, dia 1 cliente 2, dia 1 cliente 3, ...\n",
    "    ... dia 7 cliente 28, dia 7 cliente 29, dia 7 cliente 30\n",
    "    \n",
    "Assim, podemos fazer um reshape:"
   ]
  }
 ],
 "metadata": {
  "kernelspec": {
   "display_name": "Python 3 (ipykernel)",
   "language": "python",
   "name": "python3"
  },
  "language_info": {
   "codemirror_mode": {
    "name": "ipython",
    "version": 3
   },
   "file_extension": ".py",
   "mimetype": "text/x-python",
   "name": "python",
   "nbconvert_exporter": "python",
   "pygments_lexer": "ipython3",
   "version": "3.9.13"
  }
 },
 "nbformat": 4,
 "nbformat_minor": 4
}
