{
 "cells": [
  {
   "cell_type": "markdown",
   "metadata": {},
   "source": [
    "## Exercício\n",
    "\n",
    "Você é um analista de RH e tem os salários de todos os funcionários da sua empresa em um array NumPy. Seu trabalho é identificar quantos funcionários ganham acima da média. Use o seguinte array para sua análise: `salarios = np.array([3000, 2500, 3500, 4000, 2000, 4500, 3000, 3800, 4800])`."
   ]
  },
  {
   "cell_type": "code",
   "execution_count": 9,
   "metadata": {
    "ExecuteTime": {
     "end_time": "2023-07-03T17:58:55.261401600Z",
     "start_time": "2023-07-03T17:58:55.249755Z"
    },
    "collapsed": false,
    "jupyter": {
     "outputs_hidden": false
    }
   },
   "outputs": [
    {
     "name": "stdout",
     "output_type": "stream",
     "text": [
      "3455.5555555555557\n",
      "(array([2, 3, 5, 7, 8], dtype=int64),)\n",
      "[3500 4000 4500 3800 4800]\n",
      "[False False  True  True False  True False  True  True]\n",
      "5\n",
      "True\n",
      "True\n",
      "2\n"
     ]
    }
   ],
   "source": [
    "import numpy as np\n",
    "\n",
    "salarios = np.array([3000, 2500, 3500, 4000, 2000, 4500, 3000, 3800, 4800])\n",
    "media_salario = np.mean(salarios)\n",
    "print (media_salario)\n",
    "print(np.where(salarios > media_salario,))\n",
    "print(salarios[salarios > media_salario])\n",
    "print(salarios > media_salario)\n",
    "print(np.sum(salarios > media_salario)) # SOMA OS ITENS QUE SÃO TRUE\n",
    "# ISSO FUNCIONA PQ VALORES TRUE É 1 E VALORES FALSE É 0\n",
    "print(True == 1)\n",
    "print(False == 0)\n",
    "print(sum([True, False, True, False]))\n"
   ]
  },
  {
   "cell_type": "code",
   "execution_count": 10,
   "metadata": {},
   "outputs": [
    {
     "name": "stdout",
     "output_type": "stream",
     "text": [
      "A quantidade de funcionários com salário acima da média é: 5\n"
     ]
    }
   ],
   "source": [
    "func_acima_media = np.sum(salarios > media_salario)\n",
    "print(f\"A quantidade de funcionários com salário acima da média é: {func_acima_media}\")"
   ]
  },
  {
   "cell_type": "code",
   "execution_count": 14,
   "metadata": {},
   "outputs": [
    {
     "name": "stdout",
     "output_type": "stream",
     "text": [
      "5\n",
      "[False  True]\n",
      "(array([False,  True]), array([4, 5], dtype=int64))\n",
      "[False  True]\n",
      "[4 5]\n"
     ]
    }
   ],
   "source": [
    "print(np.count_nonzero(salarios > media_salario))\n",
    "print(np.unique(salarios > media_salario))\n",
    "print(np.unique(salarios > media_salario, return_counts=True))\n",
    "valores_unicos, contagem = np.unique(salarios > media_salario, return_counts=True)\n",
    "print (valores_unicos)\n",
    "print (contagem)"
   ]
  },
  {
   "cell_type": "code",
   "execution_count": 19,
   "metadata": {},
   "outputs": [
    {
     "name": "stdout",
     "output_type": "stream",
     "text": [
      "[2249 4167 3832 3228 3212 4404 2240 3952 2564 2263 3474 4731 4060 4131\n",
      " 4008 4200 3437 2358 4351 3261]\n",
      "[3401 3038 2511 4595 4189 3803 3127 4304 3527 3242 3261 2636 2258 3553\n",
      " 4486 2178 4404 4318 2775 3769]\n",
      "3468.75\n",
      "3468.75\n",
      "4595\n",
      "2178\n"
     ]
    }
   ],
   "source": [
    "# CRIANDO 20 VALORES FICTICIOS DE SALARIOS COM A MESMA FAIXA ANTERIOR, TOMANDO CUIDADO DE OUTRAS PESSOAS GERAREM OS MESMOS VALORES\n",
    "rng = np.random.default_rng(seed=42)\n",
    "# SEM ENDPOINT \n",
    "salarios_gerados = rng.integers(low=np.min(salarios), high=np.max(salarios), size=20)\n",
    "print(salarios_gerados)\n",
    "salarios_gerados = rng.integers(low=np.min(salarios), high=np.max(salarios), size=20, endpoint=True)\n",
    "print(salarios_gerados)\n",
    "print(np.mean(salarios_gerados))\n",
    "print(salarios_gerados.mean())\n",
    "print(salarios_gerados.max())\n",
    "print(salarios_gerados.min())"
   ]
  }
 ],
 "metadata": {
  "kernelspec": {
   "display_name": "Python 3 (ipykernel)",
   "language": "python",
   "name": "python3"
  },
  "language_info": {
   "codemirror_mode": {
    "name": "ipython",
    "version": 3
   },
   "file_extension": ".py",
   "mimetype": "text/x-python",
   "name": "python",
   "nbconvert_exporter": "python",
   "pygments_lexer": "ipython3",
   "version": "3.9.13"
  }
 },
 "nbformat": 4,
 "nbformat_minor": 4
}
