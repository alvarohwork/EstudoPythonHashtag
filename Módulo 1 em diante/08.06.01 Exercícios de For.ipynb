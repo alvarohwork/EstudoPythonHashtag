{
 "cells": [
  {
   "cell_type": "markdown",
   "metadata": {},
   "source": [
    "# Exercícios\n",
    "\n",
    "## 1. Calculando % de uma lista\n",
    "\n",
    "Faremos algo parecido com \"filtrar\" uma lista. Mais pra frente no curso aprenderemos outras formas de fazer isso, mas com o nosso conhecimentoa atual já conseguimos resolver o desafio.\n",
    "\n",
    "Digamos que a gente tenha uma lista de vendedores e ao invés de saber todos os vendedores que bateram a meta, eu quero conseguir calcular o % de vendedores que bateram a meta. Ou seja, se temos 10 vendedores e 3 bateram a meta, temos 30% dos vendedores que bateram a meta."
   ]
  },
  {
   "cell_type": "code",
   "execution_count": 15,
   "metadata": {},
   "outputs": [
    {
     "name": "stdout",
     "output_type": "stream",
     "text": [
      "3\n",
      "6\n",
      "50.00%\n"
     ]
    }
   ],
   "source": [
    "meta = 10000\n",
    "vendas = [\n",
    "    ['João', 15000],\n",
    "    ['Julia', 27000],\n",
    "    ['Marcus', 9900],\n",
    "    ['Maria', 3750],\n",
    "    ['Ana', 10300],\n",
    "    ['Alon', 7870],\n",
    "]\n",
    "#seu código aqui\n",
    "tot_bateu_meta = 0\n",
    "\n",
    "for venda in vendas:\n",
    "    ##print (venda [0])\n",
    "    ##print (venda [1])\n",
    "    ##print (vendas [i][1])\n",
    "    if venda [1] > meta:\n",
    "        tot_bateu_meta += 1\n",
    "\n",
    "        \n",
    "perc_bateu_meta = tot_bateu_meta / len(vendas)\n",
    "print (tot_bateu_meta)\n",
    "print (len(vendas))\n",
    "print ('{:.2%}'.format(perc_bateu_meta))"
   ]
  },
  {
   "cell_type": "markdown",
   "metadata": {},
   "source": [
    "- Vamos resolver de 2 formas:\n",
    "    1. Criando uma lista auxiliar apenas com os vendedores que bateram a meta\n",
    "    2. Fazendo o cálculo diretamente na lista que já temos"
   ]
  },
  {
   "cell_type": "markdown",
   "metadata": {},
   "source": [
    "## Para treinar uma estrutura parecida, crie um código para responder: quem foi o vendedor que mais vendeu?"
   ]
  },
  {
   "cell_type": "code",
   "execution_count": 20,
   "metadata": {},
   "outputs": [
    {
     "name": "stdout",
     "output_type": "stream",
     "text": [
      "O melhor vendedor foi Julia com a quantidade total de 27000 vendas.\n"
     ]
    }
   ],
   "source": [
    "#seu código aqui\n",
    "qtde_melhor_vendedor = 0\n",
    "nm_melhor_vendedor = ''\n",
    "\n",
    "for venda2 in vendas:\n",
    "    if venda2[1] > qtde_melhor_vendedor:\n",
    "        qtde_melhor_vendedor = venda2[1]\n",
    "        nm_melhor_vendedor = venda2[0]\n",
    "    else:\n",
    "        pass\n",
    "    \n",
    "print ('O melhor vendedor foi {} com a quantidade total de {} vendas.'.format(nm_melhor_vendedor, qtde_melhor_vendedor))"
   ]
  }
 ],
 "metadata": {
  "kernelspec": {
   "display_name": "Python 3 (ipykernel)",
   "language": "python",
   "name": "python3"
  },
  "language_info": {
   "codemirror_mode": {
    "name": "ipython",
    "version": 3
   },
   "file_extension": ".py",
   "mimetype": "text/x-python",
   "name": "python",
   "nbconvert_exporter": "python",
   "pygments_lexer": "ipython3",
   "version": "3.9.13"
  }
 },
 "nbformat": 4,
 "nbformat_minor": 4
}
