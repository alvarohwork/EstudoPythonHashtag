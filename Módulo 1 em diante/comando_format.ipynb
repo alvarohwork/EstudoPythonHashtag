{
 "cells": [
  {
   "cell_type": "markdown",
   "id": "4eb44812",
   "metadata": {},
   "source": [
    "## Format"
   ]
  },
  {
   "cell_type": "code",
   "execution_count": 9,
   "id": "d914289c",
   "metadata": {},
   "outputs": [
    {
     "name": "stdout",
     "output_type": "stream",
     "text": [
      "o faturamento foi de: 1000 Reais, custo foi de: 500 Reais e o lucro foi de: 500\n"
     ]
    }
   ],
   "source": [
    "faturamento = 1000\n",
    "custo = 500\n",
    "lucro = faturamento - custo\n",
    "print (\"o faturamento foi de:\", faturamento, \"Reais, custo foi de:\", custo, \"Reais e o lucro foi de:\", lucro)"
   ]
  },
  {
   "cell_type": "code",
   "execution_count": 10,
   "id": "a31148f5",
   "metadata": {},
   "outputs": [
    {
     "name": "stdout",
     "output_type": "stream",
     "text": [
      "O faturamento da loja foi 1000. O custo foi de 500. Assim o lucro foi de 500\n"
     ]
    }
   ],
   "source": [
    "faturamento = 1000\n",
    "custo = 500\n",
    "lucro = faturamento - custo\n",
    "print (\"O faturamento da loja foi {}. O custo foi de {}. Assim o lucro foi de {}\".format(faturamento, custo, lucro))"
   ]
  },
  {
   "cell_type": "markdown",
   "id": "b0e5d915",
   "metadata": {},
   "source": [
    "## F-String"
   ]
  },
  {
   "cell_type": "code",
   "execution_count": 12,
   "id": "4252b3d8",
   "metadata": {
    "scrolled": true
   },
   "outputs": [
    {
     "name": "stdout",
     "output_type": "stream",
     "text": [
      "O faturamento da loja foi 1000. O custo foi de 500. Assim o lucro foi de 500\n",
      "O faturamento da loja foi 1000. O custo foi de 500. Assim o lucro foi de 500 ou 500\n"
     ]
    }
   ],
   "source": [
    "faturamento = 1000\n",
    "custo = 500\n",
    "lucro = faturamento - custo\n",
    "\n",
    "# com format\n",
    "print (\"O faturamento da loja foi {}. O custo foi de {}. Assim o lucro foi de {}\".format(faturamento, custo, lucro))\n",
    "\n",
    "#com f-string\n",
    "print (f\"O faturamento da loja foi {faturamento}. O custo foi de {custo}. Assim o lucro foi de {lucro} ou {faturamento - custo}\")"
   ]
  },
  {
   "cell_type": "markdown",
   "id": "b24a6651",
   "metadata": {},
   "source": [
    "## Mudança de tipo de variável"
   ]
  },
  {
   "cell_type": "code",
   "execution_count": 18,
   "id": "08a52eac",
   "metadata": {},
   "outputs": [
    {
     "name": "stdout",
     "output_type": "stream",
     "text": [
      "Insira o faturamento:5000.70\n",
      "insira o custo:3000.55\n",
      "2000.1499999999996\n"
     ]
    }
   ],
   "source": [
    "faturamento = float(input(\"Insira o faturamento:\"))\n",
    "custo = float(input(\"insira o custo:\"))\n",
    "\n",
    "lucro = faturamento - custo\n",
    "\n",
    "print (lucro)"
   ]
  }
 ],
 "metadata": {
  "kernelspec": {
   "display_name": "Python 3 (ipykernel)",
   "language": "python",
   "name": "python3"
  },
  "language_info": {
   "codemirror_mode": {
    "name": "ipython",
    "version": 3
   },
   "file_extension": ".py",
   "mimetype": "text/x-python",
   "name": "python",
   "nbconvert_exporter": "python",
   "pygments_lexer": "ipython3",
   "version": "3.9.13"
  }
 },
 "nbformat": 4,
 "nbformat_minor": 5
}
