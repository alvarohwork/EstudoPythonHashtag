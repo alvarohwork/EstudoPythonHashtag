{
 "cells": [
  {
   "cell_type": "markdown",
   "metadata": {},
   "source": [
    "# Cuidado com o while -> Loop Infinito\n",
    "\n",
    "Sempre que for usar o comando while, lembre-se de ter certeza que o programa vai terminar em algum momento\n",
    "\n",
    "### Exemplo\n",
    "\n",
    "Digamos que temos uma lista de vendedores e as quantidades vendidas e queremos identificar todos os vendedores que bateram a meta de 50 vendas."
   ]
  },
  {
   "cell_type": "code",
   "execution_count": 3,
   "metadata": {},
   "outputs": [
    {
     "name": "stdout",
     "output_type": "stream",
     "text": [
      "Maria bateu a meta: 941\n",
      "José bateu a meta: 852\n",
      "Antônio bateu a meta: 783\n",
      "João bateu a meta: 714\n",
      "Francisco bateu a meta: 697\n",
      "Ana bateu a meta: 686\n",
      "Luiz bateu a meta: 685\n",
      "Paulo bateu a meta: 670\n",
      "Carlos bateu a meta: 631\n",
      "Manoel bateu a meta: 453\n",
      "Pedro bateu a meta: 386\n",
      "Francisca bateu a meta: 371\n",
      "Marcos bateu a meta: 294\n",
      "Raimundo bateu a meta: 269\n",
      "Sebastião bateu a meta: 259\n",
      "Antônia bateu a meta: 218\n",
      "Marcelo bateu a meta: 208\n",
      "Jorge bateu a meta: 163\n",
      "Márcia bateu a meta: 125\n",
      "Geraldo bateu a meta: 102\n",
      "Adriana bateu a meta: 87\n"
     ]
    }
   ],
   "source": [
    "vendas = [941, 852, 783, 714, 697, 686, 685, 670, 631, 453, 386, 371, 294, 269, 259, 218, 208, 163, 125, 102, 87, 47, 7]\n",
    "vendedores = ['Maria', 'José', 'Antônio', 'João', 'Francisco', 'Ana', 'Luiz', 'Paulo', 'Carlos', 'Manoel', 'Pedro', 'Francisca', 'Marcos', 'Raimundo', 'Sebastião', 'Antônia', 'Marcelo', 'Jorge', 'Márcia', 'Geraldo', 'Adriana', 'Sandra', 'Luis']\n",
    "meta = 50\n",
    "\n",
    "i=0\n",
    "\n",
    "while vendas[i] > meta:\n",
    "    print ('{} bateu a meta: {}'.format(vendedores[i], vendas[i]))\n",
    "    \n",
    "    i += 1"
   ]
  }
 ],
 "metadata": {
  "kernelspec": {
   "display_name": "Python 3 (ipykernel)",
   "language": "python",
   "name": "python3"
  },
  "language_info": {
   "codemirror_mode": {
    "name": "ipython",
    "version": 3
   },
   "file_extension": ".py",
   "mimetype": "text/x-python",
   "name": "python",
   "nbconvert_exporter": "python",
   "pygments_lexer": "ipython3",
   "version": "3.9.13"
  }
 },
 "nbformat": 4,
 "nbformat_minor": 4
}
