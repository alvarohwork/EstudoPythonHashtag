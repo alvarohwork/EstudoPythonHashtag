{
 "cells": [
  {
   "cell_type": "markdown",
   "metadata": {},
   "source": [
    "# Exercícios\n",
    "\n",
    "## 1. Faturamento do Melhor e do Pior Mês do Ano\n",
    "\n",
    "Qual foi o valor de vendas do melhor mês do Ano?\n",
    "E valor do pior mês do ano?"
   ]
  },
  {
   "cell_type": "code",
   "execution_count": 3,
   "metadata": {},
   "outputs": [
    {
     "name": "stdout",
     "output_type": "stream",
     "text": [
      "49051\n",
      "9650\n"
     ]
    }
   ],
   "source": [
    "meses = ['jan', 'fev', 'mar', 'abr', 'mai', 'jun', 'jul', 'ago', 'set', 'out', 'nov', 'dez']\n",
    "vendas_1sem = [25000, 29000, 22200, 17750, 15870, 19900]\n",
    "vendas_2sem = [19850, 20120, 17540, 15555, 49051, 9650]\n",
    "vendas_1sem.extend(vendas_2sem)\n",
    "maior_valor = max(vendas_1sem)\n",
    "menor_valor = min(vendas_1sem)\n",
    "print(maior_valor)\n",
    "print(menor_valor)"
   ]
  },
  {
   "cell_type": "markdown",
   "metadata": {},
   "source": [
    "## 2. Continuação\n",
    "\n",
    "Agora relacione as duas listas para printar 'O melhor mês do ano foi {} com {} vendas' e o mesmo para o pior mês do ano.\n",
    "\n",
    "Calcule também o faturamento total do Ano e quanto que o melhor mês representou do faturamento total.\n",
    "\n",
    "Obs: Para o faturamento total, pode usar a função sum(lista) que soma todos os itens de uma lista"
   ]
  },
  {
   "cell_type": "code",
   "execution_count": 8,
   "metadata": {},
   "outputs": [
    {
     "name": "stdout",
     "output_type": "stream",
     "text": [
      "o melhor mês do ano foi nov com 49051 vendas.\n",
      "o pior mês do ano foi dez com 9650 vendas.\n",
      "o faturamento total foi de 261486\n",
      "o melhor mês representou 18.76% das vendas do ano todo.\n"
     ]
    }
   ],
   "source": [
    "i_maior_valor = vendas_1sem.index(maior_valor)\n",
    "i_menor_valor = vendas_1sem.index(menor_valor)\n",
    "print (\"o melhor mês do ano foi {} com {} vendas.\".format(meses[i_maior_valor], maior_valor))\n",
    "print (\"o pior mês do ano foi {} com {} vendas.\".format(meses[i_menor_valor], menor_valor))\n",
    "\n",
    "fat_total = sum(vendas_1sem)\n",
    "print (\"o faturamento total foi de {}\".format(fat_total))\n",
    "\n",
    "percent = maior_valor / fat_total\n",
    "print('o melhor mês representou {:.2%} das vendas do ano todo.'.format(percent))"
   ]
  },
  {
   "cell_type": "markdown",
   "metadata": {},
   "source": [
    "## 3. Crie uma lista com o top 3 valores de vendas do ano (sem fazer \"no olho\")\n",
    "\n",
    "Dica: o método remove retira um item da lista."
   ]
  },
  {
   "cell_type": "code",
   "execution_count": 11,
   "metadata": {},
   "outputs": [
    {
     "name": "stdout",
     "output_type": "stream",
     "text": [
      "[9650, 15555, 15870, 17540, 17750, 19850, 19900, 20120, 22200, 25000, 29000, 49051]\n",
      "49051 29000 25000\n"
     ]
    }
   ],
   "source": [
    "print(vendas_1sem)\n",
    "vendas_1sem.sort()\n",
    "print (vendas_1sem[-1], vendas_1sem[-2], vendas_1sem[-3])\n",
    "top3 = []"
   ]
  }
 ],
 "metadata": {
  "kernelspec": {
   "display_name": "Python 3 (ipykernel)",
   "language": "python",
   "name": "python3"
  },
  "language_info": {
   "codemirror_mode": {
    "name": "ipython",
    "version": 3
   },
   "file_extension": ".py",
   "mimetype": "text/x-python",
   "name": "python",
   "nbconvert_exporter": "python",
   "pygments_lexer": "ipython3",
   "version": "3.9.13"
  }
 },
 "nbformat": 4,
 "nbformat_minor": 4
}
