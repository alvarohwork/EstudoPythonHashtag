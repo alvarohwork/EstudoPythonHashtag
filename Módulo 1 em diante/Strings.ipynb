{
 "cells": [
  {
   "cell_type": "markdown",
   "id": "2b04bbea",
   "metadata": {},
   "source": [
    "# Strings\n",
    "\n",
    "<span style=\"color: red;\"><b>Todos os exercícios são feitos partindo-se do pressuposto de que todas as entradas são dadas de forma correta. Casos limite não mencionados no enunciado não são abordados porque não fazem parte do exercício.</b></span>"
   ]
  },
  {
   "cell_type": "markdown",
   "id": "5b1f33b9",
   "metadata": {},
   "source": [
    "#### 1. Tamanho de strings. Faça um programa que leia 2 strings e informe o conteúdo delas seguido do seu comprimento. Informe também se as duas strings possuem o mesmo comprimento e são iguais ou diferentes no conteúdo.\n",
    "<pre>\n",
    "Compara duas strings\n",
    "String 1: Brasil Hexa 2006\n",
    "String 2: Brasil! Hexa 2006!\n",
    "Tamanho de \"Brasil Hexa 2006\": 16 caracteres\n",
    "Tamanho de \"Brasil! Hexa 2006!\": 18 caracteres\n",
    "As duas strings são de tamanhos diferentes.\n",
    "As duas strings possuem conteúdo diferente.\n",
    "</pre>"
   ]
  },
  {
   "cell_type": "code",
   "execution_count": 16,
   "id": "c492b657",
   "metadata": {},
   "outputs": [
    {
     "name": "stdout",
     "output_type": "stream",
     "text": [
      "digite a primeira string:teste\n",
      "digite a segunda string:teste\n",
      "A string 1 \"teste\" tem 5 caracteres\n",
      "A string 2 \"teste\" tem 5 caracteres\n",
      "As strings são iguais!!!\n"
     ]
    }
   ],
   "source": [
    "string1 = input ('digite a primeira string:')\n",
    "string2 = input ('digite a segunda string:')\n",
    "\n",
    "tam_str1 = len(string1)\n",
    "tam_str2 = len(string2)\n",
    "print ('A string 1', f'\"{string1}\"', f'tem {tam_str1} caracteres')\n",
    "print ('A string 2', f'\"{string2}\"', f'tem {tam_str2} caracteres')\n",
    "\n",
    "if tam_str1 != tam_str2:\n",
    "    print ('As duas strings são de tamanhos diferentes.')\n",
    "    \n",
    "if string1 != string2:\n",
    "    print ('As strings possuem conteúdo diferente.')\n",
    "else:\n",
    "    print ('As strings são iguais!!!')\n"
   ]
  },
  {
   "cell_type": "markdown",
   "id": "c3068a53",
   "metadata": {},
   "source": [
    "#### 2. Valida e corrige número de telefone. Faça um programa que leia um número de telefone, e corrija o número no caso deste conter somente 7 dígitos, acrescentando o '3' na frente. O usuário pode informar o número com ou sem o traço separador.\n",
    "<pre>\n",
    "Valida e corrige número de telefone\n",
    "Telefone: 461-0133\n",
    "Telefone possui 7 dígitos. Vou acrescentar o digito três na frente.\n",
    "Telefone corrigido sem formatação: 34610133\n",
    "Telefone corrigido com formatação: 3461-0133\n",
    "</pre>"
   ]
  },
  {
   "cell_type": "code",
   "execution_count": 27,
   "id": "0308566d",
   "metadata": {},
   "outputs": [
    {
     "name": "stdout",
     "output_type": "stream",
     "text": [
      "Digite o número de telefone:091-1539\n",
      "telefone: 091-1539\n",
      "Telefone possui 7 digitos. O digito 3 será acrescentado na frente.\n",
      "Telefone corrigido sem formatação: 30911539\n",
      "Telefone corrigido com formatação: 3091-1539\n"
     ]
    }
   ],
   "source": [
    "nr_telefone = input ('Digite o número de telefone:')\n",
    "if '-' not in nr_telefone:\n",
    "    nr_telefone = nr_telefone[:-4] + '-' + nr_telefone[-4:]\n",
    "    \n",
    "print(f'telefone: {nr_telefone}')\n",
    "\n",
    "nr_telsemtraco = nr_telefone.replace('-', '')\n",
    "tam_telefone = len(nr_telsemtraco)\n",
    "\n",
    "if tam_telefone == 7:\n",
    "    print ('Telefone possui 7 digitos. O digito 3 será acrescentado na frente.')\n",
    "    nr_telefone = '3' + nr_telefone\n",
    "    nr_telsemtraco = '3' + nr_telsemtraco\n",
    "    print (f'Telefone corrigido sem formatação: {nr_telsemtraco}')\n",
    "    print (f'Telefone corrigido com formatação: {nr_telefone}')\n",
    "    \n"
   ]
  }
 ],
 "metadata": {
  "kernelspec": {
   "display_name": "Python 3 (ipykernel)",
   "language": "python",
   "name": "python3"
  },
  "language_info": {
   "codemirror_mode": {
    "name": "ipython",
    "version": 3
   },
   "file_extension": ".py",
   "mimetype": "text/x-python",
   "name": "python",
   "nbconvert_exporter": "python",
   "pygments_lexer": "ipython3",
   "version": "3.9.13"
  }
 },
 "nbformat": 4,
 "nbformat_minor": 5
}
