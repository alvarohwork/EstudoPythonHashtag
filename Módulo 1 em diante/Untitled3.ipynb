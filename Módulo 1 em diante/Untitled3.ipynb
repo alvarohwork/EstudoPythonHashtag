{
 "cells": [
  {
   "cell_type": "code",
   "execution_count": 9,
   "id": "b9adcc11",
   "metadata": {},
   "outputs": [
    {
     "name": "stdout",
     "output_type": "stream",
     "text": [
      "15\n",
      "Olá Pessoas!\n",
      "None\n",
      "Isto é uma classe nova chamada pessoa\n",
      "Olá Pessoas!\n"
     ]
    }
   ],
   "source": [
    "class Pessoa:\n",
    "    'Isto é uma classe nova chamada pessoa'\n",
    "    \n",
    "    idade = 15\n",
    "\n",
    "    def saudacao(self):\n",
    "        print('Olá Pessoas!')\n",
    "\n",
    "alvaro = Pessoa()        \n",
    "print(alvaro.idade)\n",
    "print(alvaro.saudacao())\n",
    "print(Pessoa.__doc__)\n",
    "alvaro.saudacao()"
   ]
  }
 ],
 "metadata": {
  "kernelspec": {
   "display_name": "Python 3 (ipykernel)",
   "language": "python",
   "name": "python3"
  },
  "language_info": {
   "codemirror_mode": {
    "name": "ipython",
    "version": 3
   },
   "file_extension": ".py",
   "mimetype": "text/x-python",
   "name": "python",
   "nbconvert_exporter": "python",
   "pygments_lexer": "ipython3",
   "version": "3.9.13"
  }
 },
 "nbformat": 4,
 "nbformat_minor": 5
}
