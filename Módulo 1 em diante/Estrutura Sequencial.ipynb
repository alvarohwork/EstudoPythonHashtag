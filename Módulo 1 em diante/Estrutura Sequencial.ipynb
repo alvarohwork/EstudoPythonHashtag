{
 "cells": [
  {
   "cell_type": "markdown",
   "id": "bb0f9514",
   "metadata": {
    "id": "bb0f9514"
   },
   "source": [
    "# Lista de Estrutura Sequencial"
   ]
  },
  {
   "cell_type": "markdown",
   "id": "4e7a8c30",
   "metadata": {
    "id": "4e7a8c30"
   },
   "source": [
    "#### 1. Faça um Programa que mostre a mensagem (print) \"Alo mundo\" na tela."
   ]
  },
  {
   "cell_type": "code",
   "execution_count": 40,
   "id": "883bfe85",
   "metadata": {
    "id": "883bfe85"
   },
   "outputs": [
    {
     "name": "stdout",
     "output_type": "stream",
     "text": [
      "alo mundo\n"
     ]
    }
   ],
   "source": [
    "print (\"alo mundo\")"
   ]
  },
  {
   "cell_type": "markdown",
   "id": "71d6d6a2",
   "metadata": {
    "id": "71d6d6a2"
   },
   "source": [
    "#### 2. Faça um Programa que peça um número (input) e então mostre a mensagem: \"O número informado foi [número].\""
   ]
  },
  {
   "cell_type": "code",
   "execution_count": 41,
   "id": "30cfffcf",
   "metadata": {
    "id": "30cfffcf"
   },
   "outputs": [
    {
     "name": "stdout",
     "output_type": "stream",
     "text": [
      "digite um número1500\n",
      "O número informado foi: 1500\n"
     ]
    }
   ],
   "source": [
    "numero = input (\"digite um número\")\n",
    "print (\"O número informado foi:\", numero)"
   ]
  },
  {
   "cell_type": "markdown",
   "id": "c5e43160",
   "metadata": {
    "id": "c5e43160"
   },
   "source": [
    "#### 3. Faça um Programa que peça dois números e imprima a soma."
   ]
  },
  {
   "cell_type": "code",
   "execution_count": 42,
   "id": "b0e79590",
   "metadata": {
    "id": "b0e79590"
   },
   "outputs": [
    {
     "name": "stdout",
     "output_type": "stream",
     "text": [
      "digite o primeiro número:10\n",
      "digite o segundo número:20\n",
      "A soma dos números é: 30.0\n"
     ]
    }
   ],
   "source": [
    "num1 = float(input(\"digite o primeiro número:\"))\n",
    "num2 = float(input(\"digite o segundo número:\"))\n",
    "\n",
    "print (f\"A soma dos números é: {num1 + num2}\")"
   ]
  },
  {
   "cell_type": "markdown",
   "id": "17826987",
   "metadata": {
    "id": "17826987"
   },
   "source": [
    "#### 4. Faça um Programa que peça as 4 notas bimestrais de um aluno e mostre a média de todas as notas."
   ]
  },
  {
   "cell_type": "code",
   "execution_count": 43,
   "id": "23b66762",
   "metadata": {
    "id": "23b66762"
   },
   "outputs": [
    {
     "name": "stdout",
     "output_type": "stream",
     "text": [
      "Nota do primeiro bimestre:7\n",
      "Nota do segundo bimestre:8\n",
      "Nota do terceiro bimestre:9\n",
      "Nota do quarto bimestre:10\n",
      "A média das notas é: 8.5\n"
     ]
    }
   ],
   "source": [
    "nota1 = float(input(\"Nota do primeiro bimestre:\"))\n",
    "nota2 = float(input(\"Nota do segundo bimestre:\"))\n",
    "nota3 = float(input(\"Nota do terceiro bimestre:\"))\n",
    "nota4 = float(input(\"Nota do quarto bimestre:\"))\n",
    "\n",
    "print (f\"A média das notas é: {(nota1+nota2+nota3+nota4)/4}\")"
   ]
  },
  {
   "cell_type": "markdown",
   "id": "62d461c5",
   "metadata": {
    "id": "62d461c5"
   },
   "source": [
    "#### 5. Faça um Programa que converta metros para centímetros. Você pode pedir o comprimento em metros para o usuário (input)."
   ]
  },
  {
   "cell_type": "code",
   "execution_count": 44,
   "id": "d642f1ba",
   "metadata": {
    "id": "d642f1ba"
   },
   "outputs": [
    {
     "name": "stdout",
     "output_type": "stream",
     "text": [
      "digite uma medida em metros:100\n",
      "100.0 metros corresponde a 10000.0 centimetros\n"
     ]
    }
   ],
   "source": [
    "medida_metros = float(input(\"digite uma medida em metros:\"))\n",
    "medida_centimetros = medida_metros * 100\n",
    "\n",
    "print (f\"{medida_metros} metros corresponde a {medida_centimetros} centimetros\")"
   ]
  },
  {
   "cell_type": "markdown",
   "id": "f1311697",
   "metadata": {
    "id": "f1311697"
   },
   "source": [
    "#### 6. Faça um Programa que calcule a área de uma sala de um apartamento. Para isso, o seu programa precisa pedir a largura da sala, o comprimento da sala e imprimir a área em m² da sala."
   ]
  },
  {
   "cell_type": "code",
   "execution_count": 45,
   "id": "612ea24b",
   "metadata": {
    "id": "612ea24b"
   },
   "outputs": [
    {
     "name": "stdout",
     "output_type": "stream",
     "text": [
      "Qual o comprimento da sala:10\n",
      "Qual a largura da sala:20\n",
      "A sala tem 200.0 M²\n"
     ]
    }
   ],
   "source": [
    "comprimento = float(input(\"Qual o comprimento da sala:\"))\n",
    "largura = float(input(\"Qual a largura da sala:\"))\n",
    "print (f\"A sala tem {comprimento * largura} M²\")"
   ]
  },
  {
   "cell_type": "markdown",
   "id": "2a285929",
   "metadata": {
    "id": "2a285929"
   },
   "source": [
    "#### 7. Faça um Programa que pergunte quanto você ganha por hora e o número de horas trabalhadas no mês. Calcule e mostre o total do seu salário no referido mês."
   ]
  },
  {
   "cell_type": "code",
   "execution_count": 46,
   "id": "359e2232",
   "metadata": {
    "id": "359e2232"
   },
   "outputs": [
    {
     "name": "stdout",
     "output_type": "stream",
     "text": [
      "Salário hora:120\n",
      "Horas trabalhadas:200\n",
      "O salário no mês é de 24000.0\n"
     ]
    }
   ],
   "source": [
    "salariohora = float(input(\"Salário hora:\"))\n",
    "horames = float(input(\"Horas trabalhadas:\"))\n",
    "\n",
    "print (f\"O salário no mês é de {salariohora*horames}\")"
   ]
  },
  {
   "cell_type": "markdown",
   "id": "7e2d4615",
   "metadata": {
    "id": "7e2d4615"
   },
   "source": [
    "#### 8. Vamos criar um conversor de temperatura. Faça um Programa que peça a temperatura em graus Fahrenheit, transforme e mostre a temperatura em graus Celsius.\n",
    "$C = \\frac{5}{9}(F-32)$"
   ]
  },
  {
   "cell_type": "code",
   "execution_count": 47,
   "id": "82daf9fd",
   "metadata": {
    "id": "82daf9fd"
   },
   "outputs": [
    {
     "name": "stdout",
     "output_type": "stream",
     "text": [
      "Digite a temperatura em Fº150\n",
      "A temperatura 150.0 º Fahrenheit corresponde a 65.55555555555556 º celsius.\n"
     ]
    }
   ],
   "source": [
    "temperatura = float(input(\"Digite a temperatura em Fº\"))\n",
    "tempcelsius = 5/9*(temperatura - 32)\n",
    "print (f\"A temperatura {temperatura} º Fahrenheit corresponde a {tempcelsius} º celsius.\")"
   ]
  },
  {
   "cell_type": "markdown",
   "id": "20708b1c",
   "metadata": {
    "id": "20708b1c"
   },
   "source": [
    "#### 9. Faça um Programa que peça a temperatura em graus Celsius, transforme e mostre em graus Fahrenheit.\n",
    "$F = \\frac{9}{5}C + 32$"
   ]
  },
  {
   "cell_type": "code",
   "execution_count": 48,
   "id": "c73cfb38",
   "metadata": {
    "id": "c73cfb38"
   },
   "outputs": [
    {
     "name": "stdout",
     "output_type": "stream",
     "text": [
      "Digite a temperatura em Cº:25\n",
      "A temperatura 25.0 º celsius corresponde a 77.0 º Fahrenheit.\n"
     ]
    }
   ],
   "source": [
    "temperatura = float(input(\"Digite a temperatura em Cº:\"))\n",
    "tempfahr = (9/5*temperatura) + 32\n",
    "print (f\"A temperatura {temperatura} º celsius corresponde a {tempfahr} º Fahrenheit.\")"
   ]
  },
  {
   "cell_type": "markdown",
   "id": "b263a9dc",
   "metadata": {
    "id": "b263a9dc"
   },
   "source": [
    "#### 10. Tendo como dados de entrada a altura (h) de uma pessoa, construa um algoritmo que calcule seu peso ideal, usando a seguinte fórmula:\n",
    "$P = 72,7h - 58$\n",
    "\n",
    "Lembrando que \"algoritmo\" nada mais é do que um programa, como todos os outros que você vem fazendo"
   ]
  },
  {
   "cell_type": "code",
   "execution_count": 49,
   "id": "9a9b8dca",
   "metadata": {
    "id": "9a9b8dca"
   },
   "outputs": [
    {
     "name": "stdout",
     "output_type": "stream",
     "text": [
      "Qual sua altura:1.70\n",
      "Seu peso ideal é de: 65.59 kg\n"
     ]
    }
   ],
   "source": [
    "altura = float(input(\"Qual sua altura:\"))\n",
    "peso = (72.7 * altura) - 58\n",
    "print (f\"Seu peso ideal é de: {peso} kg\")\n"
   ]
  },
  {
   "cell_type": "markdown",
   "id": "13bb40d7",
   "metadata": {
    "id": "13bb40d7"
   },
   "source": [
    "#### 11. Tendo como dado de entrada a altura (h) de uma pessoa, construa um algoritmo que calcule seu peso ideal, utilizando as seguintes fórmulas:\n",
    "##### a. Para homens: $P = 72,7h - 58$\n",
    "##### b. Para mulheres: $P = 62,1h - 44,7$"
   ]
  },
  {
   "cell_type": "code",
   "execution_count": 50,
   "id": "bf82dc8c",
   "metadata": {
    "id": "bf82dc8c"
   },
   "outputs": [
    {
     "name": "stdout",
     "output_type": "stream",
     "text": [
      "Qual sua altura:1.70\n",
      "Seu peso ideal para homens é de: 65.59 kg\n",
      "Seu peso ideal para mulheres é de: 60.86999999999999 kg\n"
     ]
    }
   ],
   "source": [
    "altura = float(input(\"Qual sua altura:\"))\n",
    "pesoH = (72.7 * altura) - 58\n",
    "pesoM = (62.1 * altura) - 44.7\n",
    "print (f\"Seu peso ideal para homens é de: {pesoH} kg\")\n",
    "print (f\"Seu peso ideal para mulheres é de: {pesoM} kg\")"
   ]
  },
  {
   "cell_type": "markdown",
   "id": "f208ef89",
   "metadata": {
    "id": "f208ef89"
   },
   "source": [
    "#### 12. Faça um Programa que pergunte quanto você ganha por hora e o número de horas trabalhadas no mês."
   ]
  },
  {
   "cell_type": "code",
   "execution_count": 51,
   "id": "2d5b23e0",
   "metadata": {
    "id": "2d5b23e0"
   },
   "outputs": [
    {
     "name": "stdout",
     "output_type": "stream",
     "text": [
      "Salário hora:120\n",
      "Horas trabalhadas:200\n"
     ]
    }
   ],
   "source": [
    "salariohora = float(input(\"Salário hora:\"))\n",
    "horames = float(input(\"Horas trabalhadas:\"))\n",
    "\n"
   ]
  },
  {
   "cell_type": "markdown",
   "id": "607dee3c",
   "metadata": {
    "id": "607dee3c"
   },
   "source": [
    "#####  Calcule o salário bruto (horas * salario por hora)"
   ]
  },
  {
   "cell_type": "code",
   "execution_count": 52,
   "id": "7f80ccbb",
   "metadata": {
    "id": "7f80ccbb"
   },
   "outputs": [
    {
     "name": "stdout",
     "output_type": "stream",
     "text": [
      "O salário no mês é de 24000.0\n"
     ]
    }
   ],
   "source": [
    "salario = salariohora*horames\n",
    "print (f\"O salário no mês é de {salario}\")"
   ]
  },
  {
   "cell_type": "markdown",
   "id": "2ed93cb0",
   "metadata": {
    "id": "2ed93cb0"
   },
   "source": [
    "##### Calcule o desconto do IR (11% do salário bruto)"
   ]
  },
  {
   "cell_type": "code",
   "execution_count": 53,
   "id": "3363e22f",
   "metadata": {
    "id": "3363e22f"
   },
   "outputs": [
    {
     "name": "stdout",
     "output_type": "stream",
     "text": [
      "O valor de IR é de: 2640.0\n"
     ]
    }
   ],
   "source": [
    "Imposto_IR = salario*0.11\n",
    "print (f\"O valor de IR é de: {Imposto_IR}\")"
   ]
  },
  {
   "cell_type": "markdown",
   "id": "0994b2c0",
   "metadata": {
    "id": "0994b2c0"
   },
   "source": [
    "##### Calcule o desconto do INSS (8% do salário bruto)"
   ]
  },
  {
   "cell_type": "code",
   "execution_count": 54,
   "id": "748c6088",
   "metadata": {
    "id": "748c6088"
   },
   "outputs": [
    {
     "name": "stdout",
     "output_type": "stream",
     "text": [
      "O valor de INSS é de: 1920.0\n"
     ]
    }
   ],
   "source": [
    "inss = salario*0.08\n",
    "print (f\"O valor de INSS é de: {inss}\")"
   ]
  },
  {
   "cell_type": "markdown",
   "id": "06e8dae4",
   "metadata": {
    "id": "06e8dae4"
   },
   "source": [
    "##### Calcule o desconto do sindicato (5% do salário bruto)"
   ]
  },
  {
   "cell_type": "code",
   "execution_count": 55,
   "id": "21b95b15",
   "metadata": {
    "id": "21b95b15",
    "scrolled": true
   },
   "outputs": [
    {
     "name": "stdout",
     "output_type": "stream",
     "text": [
      "O valor de Sindicato ladrão é de: 1200.0\n"
     ]
    }
   ],
   "source": [
    "sindicatoladrao = salario*0.05\n",
    "print (f\"O valor de Sindicato ladrão é de: {sindicatoladrao}\")"
   ]
  },
  {
   "cell_type": "markdown",
   "id": "bb14ce36",
   "metadata": {
    "id": "bb14ce36"
   },
   "source": [
    "##### Calcule o salário líquido (salário bruto - descontos)"
   ]
  },
  {
   "cell_type": "code",
   "execution_count": 56,
   "id": "56317086",
   "metadata": {
    "id": "56317086"
   },
   "outputs": [
    {
     "name": "stdout",
     "output_type": "stream",
     "text": [
      "O salário líquido é de: 18240.0\n"
     ]
    }
   ],
   "source": [
    "salarioliq = salario - (Imposto_IR+inss+sindicatoladrao)\n",
    "print(f\"O salário líquido é de: {salarioliq}\")"
   ]
  },
  {
   "cell_type": "markdown",
   "id": "cfbfcc87",
   "metadata": {
    "id": "cfbfcc87"
   },
   "source": [
    "#### 13. Faça um programa para uma loja de tintas. O programa deverá pedir o tamanho em metros quadrados da área a ser pintada. Considere que a cobertura da tinta é de 1 litro para cada 3 metros quadrados e que a tinta é vendida em latas de 18 litros, que custam R\\$ 80,00. Informe ao usuário a quantidades de latas de tinta a serem compradas e o preço total. (para simplificação nesse momento, não se preocupe em arredondar a quantidade de latas a serem compradas - vamos trabalhar isso em breve)"
   ]
  },
  {
   "cell_type": "code",
   "execution_count": 57,
   "id": "fb6a083b",
   "metadata": {
    "id": "fb6a083b"
   },
   "outputs": [
    {
     "name": "stdout",
     "output_type": "stream",
     "text": [
      "Qual o comprimento do ambiente:10\n",
      "Qual a largura do ambiente:20\n",
      "O ambiente tem 200.0 M² e precisa de 66.66666666666667 litros de tinta, que corresponde a 3.703703703703704 latas de 18 litros, que custará 296.2962962962963 reais aproximadamente.\n"
     ]
    }
   ],
   "source": [
    "comprimento = float(input(\"Qual o comprimento do ambiente:\"))\n",
    "largura = float(input(\"Qual a largura do ambiente:\"))\n",
    "metroquadrado = comprimento * largura\n",
    "quantlitros = metroquadrado / 3\n",
    "quantlatas = quantlitros / 18\n",
    "custo = quantlatas * 80\n",
    "print (f\"O ambiente tem {metroquadrado} M² e precisa de {quantlitros} litros de tinta, que corresponde a {quantlatas} latas de 18 litros, que custará {custo} reais aproximadamente.\")"
   ]
  },
  {
   "cell_type": "markdown",
   "id": "d6503c92",
   "metadata": {
    "id": "d6503c92"
   },
   "source": [
    "#### 14. Faça um programa que peça o tamanho de um arquivo para download (em MB) e a velocidade de um link de Internet (em Mbps), calcule e informe o tempo aproximado de download do arquivo usando este link (em minutos).\n",
    "\n",
    "Detalhe: MB significa megabyte, Mb (com b minúsculo) significa megabit. Um megabit é 1/8 de um megabyte. "
   ]
  },
  {
   "cell_type": "code",
   "execution_count": 58,
   "id": "0563aa62",
   "metadata": {
    "id": "0563aa62"
   },
   "outputs": [
    {
     "name": "stdout",
     "output_type": "stream",
     "text": [
      "Tamanho do arquivo em MB:1000000\n",
      "Velocidade link em Mbps:100\n",
      "O tempo necessário para download é de 1333.3333333333333 minutos.\n"
     ]
    }
   ],
   "source": [
    "tamarq = float(input(\"Tamanho do arquivo em MB:\"))\n",
    "velolink = float(input(\"Velocidade link em Mbps:\"))\n",
    "velodownload = velolink / 8\n",
    "tempodownload = tamarq / velodownload / 60\n",
    "print (f\"O tempo necessário para download é de {tempodownload} minutos.\")"
   ]
  }
 ],
 "metadata": {
  "colab": {
   "provenance": []
  },
  "kernelspec": {
   "display_name": "Python 3 (ipykernel)",
   "language": "python",
   "name": "python3"
  },
  "language_info": {
   "codemirror_mode": {
    "name": "ipython",
    "version": 3
   },
   "file_extension": ".py",
   "mimetype": "text/x-python",
   "name": "python",
   "nbconvert_exporter": "python",
   "pygments_lexer": "ipython3",
   "version": "3.9.13"
  }
 },
 "nbformat": 4,
 "nbformat_minor": 5
}
