{
 "cells": [
  {
   "cell_type": "markdown",
   "metadata": {},
   "source": [
    "# Exercícios\n",
    "\n",
    "São exercícios bem parecidos com os que fizemos com listas. Mas na tupla, podemos não só trabalhar com índices, mas fazer o \"unpacking\" das tuplas, o que pode facilitar nossos códigos.\n",
    "\n",
    "## 1. Análise de Vendas\n",
    "\n",
    "Nesse exercício vamos fazer uma \"análise simples\" de atingimento de Meta.\n",
    "\n",
    "Temos uma lista com os vendedores e os valores de vendas e queremos identificar (printar) quais os vendedores que bateram a meta e qual foi o valor que eles venderam."
   ]
  },
  {
   "cell_type": "code",
   "execution_count": 6,
   "metadata": {},
   "outputs": [
    {
     "name": "stdout",
     "output_type": "stream",
     "text": [
      "O vendedor(a) João bateu a meta com o valor de vendas de 1500000.0%.\n",
      "O vendedor(a) Julia bateu a meta com o valor de vendas de 2700000.0%.\n",
      "O vendedor(a) Ana bateu a meta com o valor de vendas de 1030000.0%.\n"
     ]
    }
   ],
   "source": [
    "meta = 10000\n",
    "vendas = [\n",
    "    ('João', 15000),\n",
    "    ('Julia', 27000),\n",
    "    ('Marcus', 9900),\n",
    "    ('Maria', 3750),\n",
    "    ('Ana', 10300),\n",
    "    ('Alon', 7870),\n",
    "]\n",
    "\n",
    "for venda in vendas:\n",
    "    vendedor, vendas = venda\n",
    "    if vendas >= meta:\n",
    "        print('O vendedor(a) {} bateu a meta com o valor de vendas de {}.'.format(vendedor, vendas))\n",
    "        \n",
    "        "
   ]
  },
  {
   "cell_type": "markdown",
   "metadata": {},
   "source": [
    "## 2. Comparação com Ano Anterior\n",
    "\n",
    "Digamos que você está analisando as vendas de produtos de um ecommerce e quer identificar quais produtos tiveram no ano de 2020 mais vendas do que no ano de 2019, para reportar isso para a diretoria.\n",
    "\n",
    "Sua resposta pode ser um print de cada produto, qual foi a venda de 2019, a venda de 2020 e o % de crescimento de 2020 para 2019.\n",
    "\n",
    "Lembrando, para calcular o % de crescimento de um produto de um ano para o outro, podemos fazer: (vendas_produto2020/vendas_produto2019 - 1)\n",
    "\n",
    "A lógica da tupla é: (produto, vendas2019, vendas2020)"
   ]
  },
  {
   "cell_type": "code",
   "execution_count": 7,
   "metadata": {},
   "outputs": [
    {
     "name": "stdout",
     "output_type": "stream",
     "text": [
      "O % de crescimento do produto iphone foi de 70.5%.\n",
      "O % de crescimento do produto galaxy foi de -65.7%.\n",
      "O % de crescimento do produto ipad foi de -95.3%.\n",
      "O % de crescimento do produto tv foi de 94.3%.\n",
      "O % de crescimento do produto máquina de café foi de 20.7%.\n",
      "O % de crescimento do produto kindle foi de -85.2%.\n",
      "O % de crescimento do produto geladeira foi de -27.0%.\n",
      "O % de crescimento do produto adega foi de -27.6%.\n",
      "O % de crescimento do produto notebook dell foi de 64.4%.\n",
      "O % de crescimento do produto notebook hp foi de 248.8%.\n",
      "O % de crescimento do produto notebook asus foi de -63.4%.\n",
      "O % de crescimento do produto microsoft surface foi de 52.1%.\n",
      "O % de crescimento do produto webcam foi de 24.5%.\n",
      "O % de crescimento do produto caixa de som foi de 48.1%.\n",
      "O % de crescimento do produto microfone foi de 96.3%.\n",
      "O % de crescimento do produto câmera canon foi de 68.2%.\n"
     ]
    }
   ],
   "source": [
    "vendas_produtos = [('iphone', 558147, 951642), ('galaxy', 712350, 244295), ('ipad', 573823, 26964), ('tv', 405252, 787604), ('máquina de café', 718654, 867660), ('kindle', 531580, 78830), ('geladeira', 973139, 710331), ('adega', 892292, 646016), ('notebook dell', 422760, 694913), ('notebook hp', 154753, 539704), ('notebook asus', 887061, 324831), ('microsoft surface', 438508, 667179), ('webcam', 237467, 295633), ('caixa de som', 489705, 725316), ('microfone', 328311, 644622), ('câmera canon', 591120, 994303)]\n",
    "\n",
    "#seu código aqui\n",
    "for venda in vendas_produtos:\n",
    "    produto, venda2019, venda2020 = venda\n",
    "    print ('O % de crescimento do produto {} foi de {:.1%}.'.format(produto, (venda2020/venda2019 -1)))"
   ]
  }
 ],
 "metadata": {
  "kernelspec": {
   "display_name": "Python 3 (ipykernel)",
   "language": "python",
   "name": "python3"
  },
  "language_info": {
   "codemirror_mode": {
    "name": "ipython",
    "version": 3
   },
   "file_extension": ".py",
   "mimetype": "text/x-python",
   "name": "python",
   "nbconvert_exporter": "python",
   "pygments_lexer": "ipython3",
   "version": "3.9.13"
  }
 },
 "nbformat": 4,
 "nbformat_minor": 4
}
