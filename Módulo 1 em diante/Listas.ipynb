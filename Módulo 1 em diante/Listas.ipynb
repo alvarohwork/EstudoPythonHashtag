{
 "cells": [
  {
   "cell_type": "markdown",
   "id": "2b04bbea",
   "metadata": {
    "id": "2b04bbea"
   },
   "source": [
    "# Listas\n",
    "\n",
    "<span style=\"color: red;\"><b>Todos os exercícios são feitos partindo-se do pressuposto de que todas as entradas são dadas de forma correta. Casos limite não mencionados no enunciado não são abordados porque não fazem parte do exercício.</b></span>"
   ]
  },
  {
   "cell_type": "markdown",
   "id": "dcb81b29",
   "metadata": {
    "id": "dcb81b29"
   },
   "source": [
    "#### 1. Faça um Programa que leia as vendas dos vendedores, mostre a venda de cada vendedor com o seu nome e a média de vendas. "
   ]
  },
  {
   "cell_type": "code",
   "execution_count": 3,
   "id": "09c0d2b3",
   "metadata": {
    "id": "09c0d2b3"
   },
   "outputs": [
    {
     "name": "stdout",
     "output_type": "stream",
     "text": [
      "O vendedor Fulano vendeu 1000 unidades.\n",
      "O vendedor Beltrano vendeu 1500 unidades.\n",
      "O vendedor Ciclano vendeu 1200 unidades.\n",
      "O vendedor Lira vendeu 1300 unidades.\n",
      "Média de vendas:1250.0\n"
     ]
    }
   ],
   "source": [
    "vendas = [1000, 1500, 1200, 1300]\n",
    "vendedores = [\"Fulano\", \"Beltrano\", \"Ciclano\", \"Lira\"]\n",
    "\n",
    "total_vendas = 0\n",
    "for i, venda in enumerate(vendas):\n",
    "    print('O vendedor {} vendeu {} unidades.'.format(vendedores[i], venda))\n",
    "    total_vendas += venda\n",
    "    \n",
    "print('Média de vendas:{}'.format(total_vendas / len(vendas)))    "
   ]
  },
  {
   "cell_type": "markdown",
   "id": "cbda91b3",
   "metadata": {
    "id": "cbda91b3"
   },
   "source": [
    "#### 2. Faça um Programa que crie uma lista com as médias de cada aluno, imprima as médias de cada aluno e a quantidade de alunos com média maior que 7."
   ]
  },
  {
   "cell_type": "code",
   "execution_count": 9,
   "id": "c93dd233",
   "metadata": {
    "id": "c93dd233"
   },
   "outputs": [
    {
     "name": "stdout",
     "output_type": "stream",
     "text": [
      "A nota do aluno(a) José foi de 8.75\n",
      "A nota do aluno(a) Joana foi de 6.5\n",
      "A nota do aluno(a) Maria foi de 10.0\n",
      "A nota do aluno(a) Carla foi de 6.75\n",
      "A nota do aluno(a) Mauricio foi de 6.25\n",
      "A nota do aluno(a) Andre foi de 7.25\n",
      "A nota do aluno(a) Tiago foi de 7.5\n",
      "A nota do aluno(a) Enzo foi de 6.5\n",
      "A nota do aluno(a) Amanda foi de 7.5\n",
      "A nota do aluno(a) Alessandra foi de 4.25\n",
      "A quantidade de aluno com nota acima da média 7 foi de:5\n"
     ]
    }
   ],
   "source": [
    "alunos = [\"José\", \"Joana\", \"Maria\", \"Carla\", \"Mauricio\", \"Andre\", \"Tiago\", \"Enzo\", \"Amanda\", \"Alessandra\"]\n",
    "notas = [\n",
    "    [10, 9, 8, 8],\n",
    "    [9, 7, 6, 4],\n",
    "    [10, 10, 10, 10],\n",
    "    [5, 3, 10, 9],\n",
    "    [7, 6, 6, 6],\n",
    "    [7, 7, 8, 7],\n",
    "    [7, 7, 7, 9],\n",
    "    [8, 5, 6, 7],\n",
    "    [10, 9, 7, 4],\n",
    "    [10, 1, 3, 3],\n",
    "]\n",
    "\n",
    "#calculo das medias dos alunos e qtde alunos com média acima de 7\n",
    "media_por_aluno = []\n",
    "qtde_aluno_acimamedia = 0\n",
    "for i, nota in enumerate(notas):\n",
    "    media_por_aluno.append(sum(nota)/len(nota))\n",
    "    print ('A nota do aluno(a) {} foi de {}'.format(alunos[i], media_por_aluno[i]))\n",
    "    if media_por_aluno[i] > 7:\n",
    "        qtde_aluno_acimamedia += 1\n",
    "\n",
    "print ('A quantidade de aluno com nota acima da média 7 foi de:{}'.format(qtde_aluno_acimamedia))\n",
    "\n",
    "    \n",
    "\n",
    "\n"
   ]
  },
  {
   "cell_type": "markdown",
   "id": "c3068a53",
   "metadata": {
    "id": "c3068a53"
   },
   "source": [
    "#### 3. Foram anotadas as idades e salários de 30 funcionários. Faça um programa que determine quantos funcionários com mais de 25 anos possuem salário inferior à média de todos os salários."
   ]
  },
  {
   "cell_type": "code",
   "execution_count": 13,
   "id": "0308566d",
   "metadata": {
    "id": "0308566d",
    "scrolled": true
   },
   "outputs": [
    {
     "name": "stdout",
     "output_type": "stream",
     "text": [
      "Salário médio:3319.8\n",
      "Total de funcionário acima de 25 anos com salário abaixo da média:12\n"
     ]
    }
   ],
   "source": [
    "idades = [35,32,50,33,48,50,33,48,22,49,35,38,20,47,49,48,34,21,48,44,48,30,25,42,42,23,25,23,38,35]\n",
    "salarios = [3739,2219,3554,3978,4014,3270,4792,3879,2981,2384,4826,2460,3680,4318,1872,1770,4640,3929,3295,1729,3965,4267,4007,1916,2987,2943,3852,4543,2055,1730]\n",
    "\n",
    "media_salarios = sum(salarios) / len(salarios)\n",
    "totfuncabaixomedia = 0\n",
    "print ('Salário médio:{}'.format(media_salarios))\n",
    "for i in range(len(idades)):\n",
    "    if idades[i] > 25 and salarios[i] < media_salarios:\n",
    "        totfuncabaixomedia += 1\n",
    "print ('Total de funcionário acima de 25 anos com salário abaixo da média:{}'.format(totfuncabaixomedia))\n",
    "        \n",
    "\n",
    "\n"
   ]
  },
  {
   "cell_type": "markdown",
   "id": "1611081b",
   "metadata": {
    "id": "1611081b"
   },
   "source": [
    "#### 4.Em quais meses a média de temperatura foi maior do que a média nacional?"
   ]
  },
  {
   "cell_type": "code",
   "execution_count": 25,
   "id": "62f72e2b",
   "metadata": {
    "id": "62f72e2b"
   },
   "outputs": [
    {
     "name": "stdout",
     "output_type": "stream",
     "text": [
      "A média da temperatura nacional foi de 25.833333333333332. Os meses que superaram esta temperatura foram:\n",
      "Janeiro: 30 graus.\n",
      "Fevereiro: 29 graus.\n",
      "Março: 28 graus.\n",
      "Abril: 28 graus.\n",
      "Junho: 26 graus.\n",
      "Novembro: 27 graus.\n",
      "Dezembro: 32 graus.\n"
     ]
    }
   ],
   "source": [
    "meses = [\n",
    "    'Janeiro',\n",
    "    'Fevereiro',\n",
    "    'Março',\n",
    "    'Abril',\n",
    "    'Maio',\n",
    "    'Junho',\n",
    "    'Julho',\n",
    "    'Agosto',\n",
    "    'Setembro',\n",
    "    'Outubro',\n",
    "    'Novembro',\n",
    "    'Dezembro'\n",
    "]\n",
    "\n",
    "temperaturas = [30, 29, 28, 28, 25, 26, 20, 21, 19, 25, 27, 32]\n",
    "\n",
    "media_nacional = sum(temperaturas)/len(temperaturas)\n",
    "print ('A média da temperatura nacional foi de {}. Os meses que superaram esta temperatura foram:'.format(media_nacional))\n",
    "for i in range(len(meses)):\n",
    "    if temperaturas[i] > media_nacional:\n",
    "        print ('{}: {} graus.'.format(meses[i], temperaturas[i]))\n"
   ]
  },
  {
   "cell_type": "markdown",
   "id": "8946af31",
   "metadata": {
    "id": "8946af31"
   },
   "source": [
    "#### 5. As Organizações Tabajara resolveram dar um abono aos seus colaboradores em reconhecimento ao bom resultado alcançado durante o ano que passou. Para isto contratou você para desenvolver a aplicação que servirá como uma projeção de quanto será gasto com o pagamento deste abono.\n",
    "<pre>Após reuniões envolvendo a diretoria executiva, a diretoria financeira e os representantes do sindicato laboral, chegou-se a seguinte forma de cálculo:\n",
    ". Cada funcionário receberá o equivalente a 20% do seu salário bruto de dezembro;\n",
    ". O piso do abono será de 100 reais, isto é, aqueles funcionários cujo salário for muito baixo, recebem este valor mínimo; \n",
    "\n",
    "Neste momento, não se deve ter nenhuma preocupação com colaboradores com tempo menor de casa, descontos, impostos ou outras particularidades. O programa deverá calcular o valor do abono concedido a cada colaborador, de acordo com a regra definida acima. Ao final, o programa deverá apresentar:</pre>\n",
    "<pre>\n",
    "O salário de cada funcionário, juntamente com o valor do abono;\n",
    "O número total de funcionário processados;\n",
    "O valor total a ser gasto com o pagamento do abono;\n",
    "O número de funcionário que receberá o valor mínimo de 100 reais;\n",
    "O maior valor pago como abono; A tela abaixo é um exemplo de execução do programa, apenas para fins ilustrativos.\n",
    "<pre>\n",
    "Projeção de Gastos com Abono\n",
    "============================ \n",
    " \n",
    "Salário: 1000\n",
    "Salário: 300\n",
    "Salário: 500\n",
    "Salário: 100\n",
    "Salário: 4500\n",
    "Salário: 0\n",
    " \n",
    "Salário    - Abono     \n",
    "R$ 1000.00 - R$  200.00\n",
    "R$  300.00 - R$  100.00\n",
    "R$  500.00 - R$  100.00\n",
    "R$  100.00 - R$  100.00\n",
    "R$ 4500.00 - R$  900.00\n",
    " \n",
    "Foram processados 5 colaboradores\n",
    "Total gasto com abonos: R$ 1400.00\n",
    "Valor mínimo pago a 3 colaboradores\n",
    "Maior valor de abono pago: R$ 900.00"
   ]
  },
  {
   "cell_type": "code",
   "execution_count": 33,
   "id": "fadbcfb2",
   "metadata": {
    "id": "fadbcfb2"
   },
   "outputs": [
    {
     "name": "stdout",
     "output_type": "stream",
     "text": [
      "Salário:1000 - Abono:200.0\n",
      "Salário:300 - Abono:100\n",
      "Salário:500 - Abono:100\n",
      "Salário:200 - Abono:100\n",
      "Salário:1500 - Abono:300.0\n",
      "Salário:3000 - Abono:600.0\n",
      "Salário:3400 - Abono:680.0\n",
      "Salário:5000 - Abono:1000.0\n",
      "Salário:7000 - Abono:1400.0\n",
      "Salário:2000 - Abono:400.0\n",
      "Salário:600 - Abono:120.0\n",
      "Salário:800 - Abono:160.0\n",
      "Salário:250 - Abono:100\n",
      "Salário:1500 - Abono:300.0\n",
      "Salário:20000 - Abono:4000.0\n",
      "O total de funcionários processado foi de:14\n",
      "O total a ser gasto com pagamento de abono é de:9560.0\n",
      "A quantidade de funcionário que vai receber o abono mínimo é de:4\n",
      "O maior valor de abono pago foi de:4000.0\n"
     ]
    }
   ],
   "source": [
    "lista_salarios = [1000, 300, 500, 200, 1500, 3000, 3400, 5000, 7000, 2000, 600, 800, 250, 1500, 20000]\n",
    "abonos = []\n",
    "#O programa deverá calcular o valor do abono concedido a cada colaborador ***OK\n",
    "#apresentar:\n",
    "####O salário de cada funcionário, juntamente com o valor do abono; ***OK\n",
    "####O número total de funcionário processados; ***OK\n",
    "####O valor total a ser gasto com o pagamento do abono; ***OK\n",
    "####O número de funcionário que receberá o valor mínimo de 100 reais; ***Ok\n",
    "####O maior valor pago como abono; A tela abaixo é um exemplo de execução do programa, apenas para fins ilustrativos.\n",
    "\n",
    "total_abono = 0\n",
    "total_func_piso_min = 0\n",
    "maior_valor_abono = 0\n",
    "for i in range(len(lista_salarios)):\n",
    "    abonos.append(lista_salarios[i]*0.20)\n",
    "\n",
    "    if abonos[i]<100 or abonos[i]==100:\n",
    "        abonos[i] = 100\n",
    "        total_func_piso_min += 1\n",
    "    \n",
    "    if abonos[i] > maior_valor_abono:\n",
    "        maior_valor_abono = abonos[i]\n",
    "\n",
    "    total_abono += abonos[i]\n",
    "            \n",
    "    print('Salário:{} - Abono:{}'.format(lista_salarios[i], abonos[i]))\n",
    "    \n",
    "print ('O total de funcionários processado foi de:{}'.format(i)) \n",
    "print ('O total a ser gasto com pagamento de abono é de:{}'.format(total_abono))\n",
    "print ('A quantidade de funcionário que vai receber o abono mínimo é de:{}'.format(total_func_piso_min))\n",
    "print ('O maior valor de abono pago foi de:{}'.format(maior_valor_abono))"
   ]
  },
  {
   "cell_type": "markdown",
   "id": "382b0981",
   "metadata": {
    "id": "382b0981"
   },
   "source": [
    "#### 6. Faça um programa que carregue uma lista com os modelos de cinco carros (exemplo de modelos: FUSCA, GOL, VECTRA etc). Carregue uma outra lista com o consumo desses carros, isto é, quantos quilômetros cada um desses carros faz com um litro de combustível. Calcule e mostre:\n",
    "<pre>\n",
    "a. O modelo do carro mais econômico;\n",
    "b. Quantos litros de combustível cada um dos carros cadastrados consome para percorrer uma distância de 1000 quilômetros e quanto isto custará, considerando um que a gasolina custe R$ 2,25 o litro. Abaixo segue uma tela de exemplo. O disposição das informações deve ser o mais próxima possível ao exemplo. Os dados são fictícios e podem mudar a cada execução do programa.</pre>\n",
    "```\n",
    "Comparativo de Consumo de Combustível\n",
    "\n",
    "Veículo 1\n",
    "Nome: fusca\n",
    "Km por litro: 7\n",
    "Veículo 2\n",
    "Nome: gol\n",
    "Km por litro: 10\n",
    "Veículo 3\n",
    "Nome: uno\n",
    "Km por litro: 12.5\n",
    "Veículo 4\n",
    "Nome: Vectra\n",
    "Km por litro: 9\n",
    "Veículo 5\n",
    "Nome: Peugeout\n",
    "Km por litro: 14.5\n",
    "\n",
    "Relatório Final\n",
    " 1 - fusca           -    7.0 -  142.9 litros - R$ 321.43\n",
    " 2 - gol             -   10.0 -  100.0 litros - R$ 225.00\n",
    " 3 - uno             -   12.5 -   80.0 litros - R$ 180.00\n",
    " 4 - vectra          -    9.0 -  111.1 litros - R$ 250.00\n",
    " 5 - peugeout        -   14.5 -   69.0 litros - R$ 155.17\n",
    "O menor consumo é do peugeout.\n",
    "```"
   ]
  },
  {
   "cell_type": "code",
   "execution_count": 35,
   "id": "6b6c8b06",
   "metadata": {
    "id": "6b6c8b06"
   },
   "outputs": [
    {
     "name": "stdout",
     "output_type": "stream",
     "text": [
      "Comparativo de Consumo de Combustível\n",
      "\n",
      "1 - fusca           -  7.0 km/l -  142.9 litros - R$ 321.43\n",
      "2 - gol             - 10.0 km/l -  100.0 litros - R$ 225.00\n",
      "3 - uno             - 12.5 km/l -   80.0 litros - R$ 180.00\n",
      "4 - vectra          -  9.0 km/l -  111.1 litros - R$ 250.00\n",
      "5 - peugeout        - 14.5 km/l -   69.0 litros - R$ 155.17\n",
      "\n",
      "O menor consumo é do peugeout.\n"
     ]
    }
   ],
   "source": [
    "###codigo feito pelo chatgpt, não consegui programar isto.\n",
    "def calcular_consumo(distancia, consumo):\n",
    "    litros = distancia / consumo\n",
    "    custo = litros * 2.25\n",
    "    return litros, custo\n",
    "\n",
    "carros = [\"fusca\", \"gol\", \"uno\", \"vectra\", \"peugeout\"]\n",
    "consumo = [7, 10, 12.5, 9, 14.5]\n",
    "\n",
    "# a. Encontrar o modelo do carro mais econômico\n",
    "indice_mais_economico = consumo.index(max(consumo))\n",
    "carro_mais_economico = carros[indice_mais_economico]\n",
    "\n",
    "print(\"Comparativo de Consumo de Combustível\\n\")\n",
    "\n",
    "for i in range(len(carros)):\n",
    "    litros, custo = calcular_consumo(1000, consumo[i])\n",
    "    print(f\"{i+1} - {carros[i]:<15} - {consumo[i]:>4.1f} km/l - {litros:>6.1f} litros - R$ {custo:>6.2f}\")\n",
    "\n",
    "print(f\"\\nO menor consumo é do {carro_mais_economico}.\")"
   ]
  },
  {
   "cell_type": "markdown",
   "id": "1d0260a3",
   "metadata": {
    "id": "1d0260a3"
   },
   "source": [
    "#### 7. Uma empresa paga seus vendedores com base em comissões. O vendedor recebe \\\\$200 por semana mais 9 por cento de suas vendas brutas daquela semana. Por exemplo, um vendedor que teve vendas brutas de \\\\$3000 em uma semana recebe \\\\$200 mais 9 por cento de \\\\$3000, ou seja, um total de \\\\$470. Escreva um programa (usando um array de contadores) que determine quantos vendedores receberam salários nos seguintes intervalos de valores:\n",
    "<pre>\n",
    "$200 - $299\n",
    "$300 - $399\n",
    "$400 - $499\n",
    "$500 - $599\n",
    "$600 - $699\n",
    "$700 - $799\n",
    "$800 - $899\n",
    "$900 - $999\n",
    "$1000 em diante\n",
    "</pre>\n",
    "\n",
    "Existem várias formas de fazer. Faça primeiro da forma que parecer mais intuitiva para você.\n",
    "\n",
    "Em seguida, caso queira um desafio:\n",
    "Desafio: Crie uma forma para chegar na posição da lista a partir do salário, sem fazer vários ifs aninhados."
   ]
  },
  {
   "cell_type": "code",
   "execution_count": 39,
   "id": "fc6eaae4",
   "metadata": {
    "id": "fc6eaae4"
   },
   "outputs": [
    {
     "name": "stdout",
     "output_type": "stream",
     "text": [
      "290.0\n",
      "380.0\n",
      "470.0\n",
      "560.0\n",
      "650.0\n",
      "740.0\n",
      "695.0\n",
      "605.0\n",
      "524.0\n",
      "[1, 2, 3, 4, 5, 6, 5, 5, 4]\n",
      "Entre 200 e 299: 1\n",
      "Entre 300 e 399: 1\n",
      "Entre 400 e 499: 1\n",
      "Entre 500 e 599: 2\n",
      "Entre 600 e 699: 3\n",
      "Entre 700 e 799: 1\n",
      "Entre 800 e 899: 0\n",
      "Entre 900 e 999: 0\n",
      "Mais que mil: 0\n"
     ]
    }
   ],
   "source": [
    "vendas = [1000, 2000, 3000, 4000, 5000, 6000, 5500, 4500, 3600]\n",
    "faixas = []\n",
    "menores_que_mil = 0\n",
    "tamanho_faixas = 100\n",
    "qtde_faixas = 9\n",
    "\n",
    "for venda in vendas:\n",
    "    bonus = venda * 0.09\n",
    "    salario = 200 + bonus\n",
    "    print(salario)\n",
    "    faixa = int(bonus / tamanho_faixas) + 1\n",
    "    faixas.append(faixa)\n",
    "print (faixas)    \n",
    "for i in range(qtde_faixas-1):\n",
    "    print(f'Entre {i*100 + 200} e {i*100 + 299}:', faixas.count(i+1))\n",
    "    menores_que_mil += faixas.count(i+1)\n",
    "    \n",
    "print('Mais que mil:', len(vendas) - menores_que_mil)"
   ]
  }
 ],
 "metadata": {
  "colab": {
   "provenance": []
  },
  "kernelspec": {
   "display_name": "Python 3 (ipykernel)",
   "language": "python",
   "name": "python3"
  },
  "language_info": {
   "codemirror_mode": {
    "name": "ipython",
    "version": 3
   },
   "file_extension": ".py",
   "mimetype": "text/x-python",
   "name": "python",
   "nbconvert_exporter": "python",
   "pygments_lexer": "ipython3",
   "version": "3.9.13"
  }
 },
 "nbformat": 4,
 "nbformat_minor": 5
}
