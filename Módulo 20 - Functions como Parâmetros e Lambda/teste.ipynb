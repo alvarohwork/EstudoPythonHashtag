{
 "cells": [
  {
   "cell_type": "code",
   "execution_count": 3,
   "metadata": {},
   "outputs": [
    {
     "name": "stdout",
     "output_type": "stream",
     "text": [
      "{'um': 1, 'dois': 2, 'três': 3}\n"
     ]
    }
   ],
   "source": [
    "# Lista de tuplas (chave, valor)\n",
    "lista_tuplas = [('um', 1), ('dois', 2), ('três', 3)]\n",
    "\n",
    "# Função que retorna uma tupla como está\n",
    "def retorna_tupla(tupla):\n",
    "    return tupla\n",
    "\n",
    "# Usando map() para aplicar a função a cada elemento da lista\n",
    "map_resultado = map(retorna_tupla, lista_tuplas)\n",
    "#print(list(map_resultado))\n",
    "\n",
    "# Convertendo o iterador map para um dicionário\n",
    "dicionario_resultado = dict(map_resultado)\n",
    "\n",
    "print(dicionario_resultado)\n"
   ]
  }
 ],
 "metadata": {
  "kernelspec": {
   "display_name": "base",
   "language": "python",
   "name": "python3"
  },
  "language_info": {
   "codemirror_mode": {
    "name": "ipython",
    "version": 3
   },
   "file_extension": ".py",
   "mimetype": "text/x-python",
   "name": "python",
   "nbconvert_exporter": "python",
   "pygments_lexer": "ipython3",
   "version": "3.9.13"
  }
 },
 "nbformat": 4,
 "nbformat_minor": 2
}
