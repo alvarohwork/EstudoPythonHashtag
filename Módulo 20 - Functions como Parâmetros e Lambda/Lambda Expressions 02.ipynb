{
 "cells": [
  {
   "cell_type": "markdown",
   "metadata": {},
   "source": [
    "# Principal Aplicação de Lambda Expressions\n",
    "\n",
    "### Usar lambda como argumento de alguma outra função, como map e filter"
   ]
  },
  {
   "cell_type": "code",
   "execution_count": 31,
   "metadata": {},
   "outputs": [],
   "source": [
    "preco_tecnologia = {'notebook asus': 2450, 'iphone': 4500, 'samsung galaxy': 3000, 'tv samsung': 1000, 'ps5': 3000, 'tablet': 1000, 'notebook dell': 3000, 'ipad': 3000, 'tv philco': 800, 'notebook hp': 1700}"
   ]
  },
  {
   "cell_type": "markdown",
   "metadata": {},
   "source": [
    "### map()\n",
    "- Queremos saber o preço de cada produto adicionando o valor do imposto de 30% sobre o valor do produto"
   ]
  },
  {
   "cell_type": "code",
   "execution_count": 5,
   "metadata": {},
   "outputs": [
    {
     "name": "stdout",
     "output_type": "stream",
     "text": [
      "{'notebook asus': 3185.0, 'iphone': 5850.0, 'samsung galaxy': 3900.0, 'tv samsung': 1300.0, 'ps5': 3900.0, 'tablet': 1300.0, 'notebook dell': 3900.0, 'ipad': 3900.0, 'tv philco': 1040.0, 'notebook hp': 2210.0}\n"
     ]
    }
   ],
   "source": [
    "#Fazendo por function\n",
    "def calcula_imposto(lista_tuplas):\n",
    "    nova_lista = []\n",
    "    for i in lista_tuplas:\n",
    "        item, valor = i\n",
    "        valor = valor * 1.30\n",
    "        nova_lista.append((item, valor))\n",
    "    return nova_lista\n",
    "\n",
    "lista_nova = calcula_imposto (preco_tecnologia.items())\n",
    "print(dict(lista_nova))\n",
    "\n",
    "\n"
   ]
  },
  {
   "cell_type": "code",
   "execution_count": 6,
   "metadata": {},
   "outputs": [
    {
     "name": "stdout",
     "output_type": "stream",
     "text": [
      "[('notebook asus', 3185.0), ('iphone', 5850.0), ('samsung galaxy', 3900.0), ('tv samsung', 1300.0), ('ps5', 3900.0), ('tablet', 1300.0), ('notebook dell', 3900.0), ('ipad', 3900.0), ('tv philco', 1040.0), ('notebook hp', 2210.0)]\n"
     ]
    }
   ],
   "source": [
    "## USANDO FUNCTION COM MAP\n",
    "def calcula_imposto_v2 (tupla):\n",
    "    return ((tupla[0], tupla[1] * 1.30))\n",
    "\n",
    "precos_com_imposto = list(map(calcula_imposto_v2, preco_tecnologia.items()))\n",
    "print(precos_com_imposto)"
   ]
  },
  {
   "cell_type": "code",
   "execution_count": 43,
   "metadata": {},
   "outputs": [],
   "source": [
    "#fazendo por lambda\n",
    "resultado = map(lambda tupla:(tupla[0], tupla[1] * 1.30), preco_tecnologia.items())\n",
    "#print(dict(resultado))\n",
    "#print(list(resultado))"
   ]
  },
  {
   "cell_type": "markdown",
   "metadata": {},
   "source": [
    "### filter()\n",
    "- Queremos apenas os produtos que custam acima de 2000"
   ]
  },
  {
   "cell_type": "raw",
   "metadata": {},
   "source": [
    "filter(função, iterable) -> retorna como resposta todos os itens do iterable onde a função é True"
   ]
  },
  {
   "cell_type": "code",
   "execution_count": 40,
   "metadata": {},
   "outputs": [
    {
     "name": "stdout",
     "output_type": "stream",
     "text": [
      "[('notebook asus', 3185.0), ('iphone', 5850.0), ('samsung galaxy', 3900.0), ('ps5', 3900.0), ('notebook dell', 3900.0), ('ipad', 3900.0), ('notebook hp', 2210.0)]\n"
     ]
    }
   ],
   "source": [
    "#fazendo por function\n",
    "#print(preco_tecnologia.items())\n",
    "def ehmaior2000(item):\n",
    "    return item[1] > 2000\n",
    "\n",
    "produtos_acima2000 = list(filter(ehmaior2000, list(resultado)))\n",
    "print(produtos_acima2000)\n"
   ]
  },
  {
   "cell_type": "code",
   "execution_count": 44,
   "metadata": {},
   "outputs": [
    {
     "name": "stdout",
     "output_type": "stream",
     "text": [
      "[('notebook asus', 3185.0), ('iphone', 5850.0), ('samsung galaxy', 3900.0), ('ps5', 3900.0), ('notebook dell', 3900.0), ('ipad', 3900.0), ('notebook hp', 2210.0)]\n"
     ]
    }
   ],
   "source": [
    "#fazendo por lambda\n",
    "produtos_maior2000 = list(filter(lambda tupla: tupla[1] > 2000, list(resultado)))\n",
    "print(produtos_maior2000)\n",
    "                          "
   ]
  }
 ],
 "metadata": {
  "kernelspec": {
   "display_name": "Python 3",
   "language": "python",
   "name": "python3"
  },
  "language_info": {
   "codemirror_mode": {
    "name": "ipython",
    "version": 3
   },
   "file_extension": ".py",
   "mimetype": "text/x-python",
   "name": "python",
   "nbconvert_exporter": "python",
   "pygments_lexer": "ipython3",
   "version": "3.9.13"
  }
 },
 "nbformat": 4,
 "nbformat_minor": 4
}
