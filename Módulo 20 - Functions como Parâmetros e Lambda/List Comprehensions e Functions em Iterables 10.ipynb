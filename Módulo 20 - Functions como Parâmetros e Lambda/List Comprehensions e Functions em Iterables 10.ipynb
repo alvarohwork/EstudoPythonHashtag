{
 "cells": [
  {
   "cell_type": "markdown",
   "metadata": {},
   "source": [
    "# sort (ou sorted) com function\n",
    "\n",
    "### Descrição:\n",
    "\n",
    "Até agora no programa, usamos várias vezes o .sort() para ordenar listas\n",
    "\n",
    "Mas o método sort tem um parâmetro que nunca usamos e que agora sabemos usar."
   ]
  },
  {
   "cell_type": "code",
   "execution_count": 1,
   "metadata": {},
   "outputs": [
    {
     "name": "stdout",
     "output_type": "stream",
     "text": [
      "['IPad', 'IPhone 11', 'IPhone x', 'airpods', 'apple tv', 'apple watch', 'mac', 'mac book']\n"
     ]
    }
   ],
   "source": [
    "produtos = ['apple tv', 'mac', 'IPhone x', 'IPhone 11', 'IPad', 'apple watch', 'mac book', 'airpods']\n",
    "produtos.sort()\n",
    "print(produtos)"
   ]
  },
  {
   "cell_type": "markdown",
   "metadata": {},
   "source": [
    "- Como faríamos para ordenar corretamente?"
   ]
  },
  {
   "cell_type": "code",
   "execution_count": 3,
   "metadata": {},
   "outputs": [],
   "source": [
    "def padronizar_texto(texto):\n",
    "    texto = texto.casefold()\n",
    "    texto = texto.replace(\"  \", \" \")\n",
    "    texto = texto.strip()\n",
    "    return texto"
   ]
  },
  {
   "cell_type": "code",
   "execution_count": 6,
   "metadata": {},
   "outputs": [
    {
     "name": "stdout",
     "output_type": "stream",
     "text": [
      "['airpods', 'apple tv', 'apple watch', 'IPad', 'IPhone 11', 'IPhone x', 'mac', 'mac book']\n"
     ]
    }
   ],
   "source": [
    "produtos.sort(key=padronizar_texto) ## ou você pode usar o comando abaixo.\n",
    "produtos.sort(key=str.casefold)\n",
    "print(produtos)"
   ]
  },
  {
   "cell_type": "markdown",
   "metadata": {},
   "source": [
    "### Outro exemplo: como ordenar um dicionário de acordo com o valor"
   ]
  },
  {
   "cell_type": "code",
   "execution_count": 2,
   "metadata": {},
   "outputs": [],
   "source": [
    "vendas_produtos = {'vinho': 100, 'cafeiteira': 150, 'microondas': 300, 'iphone': 5500}"
   ]
  },
  {
   "cell_type": "markdown",
   "metadata": {},
   "source": [
    "- Queremos listar da maior quantidade de vendas para a menor, para enviar como report para o diretor, por exemplo"
   ]
  },
  {
   "cell_type": "code",
   "execution_count": 43,
   "metadata": {},
   "outputs": [
    {
     "name": "stdout",
     "output_type": "stream",
     "text": [
      "operator.itemgetter(1)\n",
      "[3, 2, 5, 1]\n",
      "[5500, 300, 150, 100]\n",
      "[('iphone', 5500), ('microondas', 300), ('cafeiteira', 150), ('vinho', 100)]\n"
     ]
    }
   ],
   "source": [
    "##itemgetter(1)('ABCDEFG')\n",
    "inventory = [('apple', 3), ('banana', 2), ('pear', 5), ('orange', 1)]\n",
    "getcount = itemgetter(1)\n",
    "#getcount\n",
    "print(getcount)\n",
    "print(list(map(itemgetter(1), inventory)))\n",
    "print(list(map(itemgetter(1), lista_vendas)))\n",
    "print(sorted(list(vendas_produtos.items()), key=itemgetter(1),reverse=True))\n",
    "##list(map(getcount, inventory))\n",
    "##[3, 2, 5, 1]\n",
    "##sorted(inventory, key=getcount)\n",
    "##[('orange', 1), ('banana', 2), ('apple', 3), ('pear', 5)]\n"
   ]
  },
  {
   "cell_type": "code",
   "execution_count": 22,
   "metadata": {},
   "outputs": [
    {
     "name": "stdout",
     "output_type": "stream",
     "text": [
      "[('iphone', 5500), ('microondas', 300), ('cafeiteira', 150), ('vinho', 100)]\n",
      "['iphone', 'vinho', 'microondas', 'cafeiteira']\n"
     ]
    }
   ],
   "source": [
    "### SOLUÇÃO DADA POR UM ALUNO USANDO O ITEMGETTER\n",
    "from operator import itemgetter\n",
    "lista_vendas = list(vendas_produtos.items()) ##Cria uma lista de TUPLAS\n",
    "lista_vendas.sort(key=itemgetter(1), reverse=True)\n",
    "print(lista_vendas)\n"
   ]
  },
  {
   "cell_type": "code",
   "execution_count": 24,
   "metadata": {},
   "outputs": [
    {
     "name": "stdout",
     "output_type": "stream",
     "text": [
      "Lista de Tuplas: [('vinho', 100), ('cafeiteira', 150), ('microondas', 300), ('iphone', 5500)]\n",
      "Lista ordenada pela função: [('iphone', 5500), ('microondas', 300), ('cafeiteira', 150), ('vinho', 100)]\n"
     ]
    }
   ],
   "source": [
    "### SOLUCAO APRESENTADA EM AULA PARA DEMONSTRAR O USO DE UMA FUNÇÃO NO SORT\n",
    "def segundo_item(tupla):\n",
    "    return tupla[1]\n",
    "\n",
    "lista_vendas = list(vendas_produtos.items()) ## Transforma o dicionario em uma lista de TUPLAS\n",
    "print (f\"Lista de Tuplas: {lista_vendas}\") ## ==> LISTA DE TUPLAS\n",
    "### USANDO A FUNÇÃO segundo_item para ordenar a lista de tuplas\n",
    "lista_vendas.sort(key=segundo_item, reverse=True)       \n",
    "print(f\"Lista ordenada pela função: {lista_vendas}\")"
   ]
  },
  {
   "cell_type": "code",
   "execution_count": 3,
   "metadata": {},
   "outputs": [
    {
     "name": "stdout",
     "output_type": "stream",
     "text": [
      "[('iphone', 5500), ('microondas', 300), ('cafeiteira', 150), ('vinho', 100)]\n"
     ]
    }
   ],
   "source": [
    "### MELHOR SOLUÇÃO FINAL\n",
    "from operator import itemgetter\n",
    "print(sorted(list(vendas_produtos.items()), key=itemgetter(1), reverse=True))"
   ]
  }
 ],
 "metadata": {
  "kernelspec": {
   "display_name": "Python 3",
   "language": "python",
   "name": "python3"
  },
  "language_info": {
   "codemirror_mode": {
    "name": "ipython",
    "version": 3
   },
   "file_extension": ".py",
   "mimetype": "text/x-python",
   "name": "python",
   "nbconvert_exporter": "python",
   "pygments_lexer": "ipython3",
   "version": "3.9.13"
  }
 },
 "nbformat": 4,
 "nbformat_minor": 4
}
