{
 "cells": [
  {
   "cell_type": "markdown",
   "metadata": {},
   "source": [
    "### Como funciona o DASH\n",
    "\n",
    "- Layout\n",
    "    - HTML\n",
    "    - Dash Components (Core Components)\n",
    "- Callbacks"
   ]
  },
  {
   "cell_type": "code",
   "execution_count": 37,
   "metadata": {},
   "outputs": [
    {
     "data": {
      "text/html": [
       "\n",
       "        <iframe\n",
       "            width=\"100%\"\n",
       "            height=\"650\"\n",
       "            src=\"http://127.0.0.1:8050/\"\n",
       "            frameborder=\"0\"\n",
       "            allowfullscreen\n",
       "            \n",
       "        ></iframe>\n",
       "        "
      ],
      "text/plain": [
       "<IPython.lib.display.IFrame at 0x1bf46990100>"
      ]
     },
     "metadata": {},
     "output_type": "display_data"
    }
   ],
   "source": [
    "from dash import Dash, html, dcc, Input, Output\n",
    "import plotly.express as px\n",
    "import pandas as pd\n",
    "#import dash_auth\n",
    "\n",
    "#usuarios = {\n",
    "#    \"Alvaro\": '123456',\n",
    "#    \"Bernardo\": \"89012\"\n",
    "#}\n",
    "\n",
    "app = Dash(__name__)\n",
    "#auth = dash_auth.BasicAuth(app, usuarios)\n",
    "\n",
    "df = pd.read_excel(\"Vendas.xlsx\")\n",
    "\n",
    "lista_marcas = list(df[\"Marca\"].unique())\n",
    "lista_marcas.append(\"Todas\")\n",
    "\n",
    "lista_paises = list(df[\"País\"].unique())\n",
    "lista_paises.append(\"Todos\")\n",
    "\n",
    "# plotly\n",
    "#fig = px.bar(df, x=\"Produto\", y=\"Quantidade\", color=\"ID Loja\", barmode=\"group\")\n",
    "#fig2 = px.scatter(df, x=\"Quantidade\", y=\"Valor Final\", color=\"Produto\", size=\"Valor Unitário\", size_max=60)\n",
    "\n",
    "app.layout = html.Div(children=[\n",
    "    html.H1(children='My First Dashboard'),\n",
    "\n",
    "    html.Div(children='''\n",
    "        Dash: A web application framework for your data.\n",
    "    '''),\n",
    "\n",
    "    html.H1(children=\"Vendas de Produto por loja\", id='subtitulo'),\n",
    "    \n",
    "    dcc.RadioItems(lista_marcas, value=\"Todas\", id='selecao_marcas', inline=True, style={\"color\": \"#00FF00\"}),\n",
    "    html.Div(children=[\n",
    "            dcc.Dropdown(lista_paises, value=\"Todos\", id='selecao_pais'),\n",
    "    ], style={\"width\": \"50%\", \"margin\": \"auto\"}),\n",
    "    \n",
    "\n",
    "    dcc.Graph(id='vendas_por_loja'),\n",
    "    dcc.Graph(id='distribuicao_vendas'),\n",
    "\n",
    "\n",
    "], style={\"text-align\": \"center\", \"color\": \"#FF0000\"})\n",
    "\n",
    "# callbacks -> dar funcionalidade para dashboard (conecta botões com os gráficos)\n",
    "@app.callback(\n",
    "    Output('selecao_pais', 'options'),\n",
    "    Input('selecao_marcas', 'value'),\n",
    ")\n",
    "def opcoes_pais(marca):\n",
    "    # criar uma lógica que diga qual a lista de paises que ele vai pegar\n",
    "    if marca == \"Todas\":\n",
    "        nova_lista_paises = list(df[\"País\"].unique())\n",
    "        nova_lista_paises.append(\"Todos\")\n",
    "    else:\n",
    "        df_filtrada = df.loc[df['Marca']==marca, :]\n",
    "        nova_lista_paises = list(df_filtrada[\"País\"].unique())\n",
    "        nova_lista_paises.append(\"Todos\")\n",
    "    return nova_lista_paises\n",
    "\n",
    "@app.callback(\n",
    "        Output('subtitulo', 'children'), # objeto que eu quero modificar\n",
    "        Output('vendas_por_loja', 'figure'), \n",
    "        Output('distribuicao_vendas', 'figure'), \n",
    "        Input('selecao_marcas', 'value'), # de onde vem as informações - Entrada\n",
    "        Input('selecao_pais', 'value'),\n",
    ")\n",
    "def selecionar_marca(marca, pais):\n",
    "    if marca == \"Todas\" and pais == 'Todos':\n",
    "        texto = 'Venda de cada Produto por Loja'\n",
    "        fig = px.bar(df, x=\"Produto\", y=\"Quantidade\", color=\"ID Loja\", barmode=\"group\")\n",
    "        fig2 = px.scatter(df, x=\"Quantidade\", y=\"Valor Final\", color=\"Produto\", size=\"Valor Unitário\", size_max=60)\n",
    "    else:\n",
    "        #definindo os filtros\n",
    "        df_filtrada = df\n",
    "        if marca != \"Todas\":\n",
    "            df_filtrada = df_filtrada.loc[df_filtrada[\"Marca\"] == marca, :]\n",
    "        if pais != 'Todos':\n",
    "            df_filtrada = df_filtrada.loc[df_filtrada[\"País\"] == pais, :]\n",
    "\n",
    "        texto = f'Vendas de cada Produto por Loja da Marca {marca} e do País {pais}'\n",
    "        fig = px.bar(df_filtrada, x=\"Produto\", y=\"Quantidade\", color=\"ID Loja\", barmode=\"group\")\n",
    "        fig2 = px.scatter(df_filtrada, x=\"Quantidade\", y=\"Valor Final\", color=\"Produto\", size=\"Valor Unitário\", size_max=60)\n",
    "    return texto, fig, fig2   \n",
    "\n",
    "if __name__ == '__main__':\n",
    "    app.run_server(debug=True)\n"
   ]
  }
 ],
 "metadata": {
  "kernelspec": {
   "display_name": "base",
   "language": "python",
   "name": "python3"
  },
  "language_info": {
   "codemirror_mode": {
    "name": "ipython",
    "version": 3
   },
   "file_extension": ".py",
   "mimetype": "text/x-python",
   "name": "python",
   "nbconvert_exporter": "python",
   "pygments_lexer": "ipython3",
   "version": "3.9.13"
  }
 },
 "nbformat": 4,
 "nbformat_minor": 2
}
