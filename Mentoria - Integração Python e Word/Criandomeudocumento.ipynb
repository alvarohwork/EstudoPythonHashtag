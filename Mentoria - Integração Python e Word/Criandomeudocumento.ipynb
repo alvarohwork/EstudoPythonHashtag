{
 "cells": [
  {
   "cell_type": "code",
   "execution_count": 1,
   "metadata": {},
   "outputs": [],
   "source": [
    "from docx import Document\n",
    "\n",
    "# criando o documento no Python\n",
    "documento = Document()\n",
    "\n",
    "faturamento = 1000\n",
    "\n",
    "# aqui você edita tudo o que você quer\n",
    "texto = f\"\"\"Fala Álvaro, Beleza?\n",
    "\n",
    "O faturamento da empresa ontem foi de R${faturamento}\n",
    "\n",
    "Tamo junto, abs.\n",
    "\"\"\"\n",
    "\n",
    "paragrafo = documento.add_paragraph(texto) \n",
    "\n"
   ]
  },
  {
   "cell_type": "markdown",
   "metadata": {},
   "source": [
    "### FORMATAÇÃO"
   ]
  },
  {
   "cell_type": "code",
   "execution_count": null,
   "metadata": {},
   "outputs": [],
   "source": [
    "from docx.shared import Pt, RGBColor, Cm # valores de formatação\n",
    "from docx.enum.style import WD_STYLE_TYPE"
   ]
  },
  {
   "cell_type": "code",
   "execution_count": null,
   "metadata": {},
   "outputs": [],
   "source": [
    "documento.save(\"Texto1.docx\")"
   ]
  }
 ],
 "metadata": {
  "kernelspec": {
   "display_name": "base",
   "language": "python",
   "name": "python3"
  },
  "language_info": {
   "codemirror_mode": {
    "name": "ipython",
    "version": 3
   },
   "file_extension": ".py",
   "mimetype": "text/x-python",
   "name": "python",
   "nbconvert_exporter": "python",
   "pygments_lexer": "ipython3",
   "version": "3.9.13"
  }
 },
 "nbformat": 4,
 "nbformat_minor": 2
}
