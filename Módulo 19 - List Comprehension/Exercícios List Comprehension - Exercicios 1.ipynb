{
 "cells": [
  {
   "cell_type": "markdown",
   "metadata": {},
   "source": [
    "# Exercícios\n",
    "\n",
    "## 1. Tirando informações de listas e dicionários\n",
    "\n",
    "Digamos que você está analisando as vendas de produtos de uma empresa de varejo.\n",
    "\n",
    "Essa lista tem: (produto, vendas de 2019, vendas de 2020) para cada produto.\n",
    "\n",
    "Crie uma lista com as vendas de 2019."
   ]
  },
  {
   "cell_type": "code",
   "execution_count": 4,
   "metadata": {},
   "outputs": [
    {
     "name": "stdout",
     "output_type": "stream",
     "text": [
      "[]\n",
      "[]\n",
      "[]\n",
      "[558147, 712350, 573823, 405252, 718654, 531580, 973139, 892292, 422760, 154753, 887061, 438508, 237467, 489705, 328311, 591120]\n"
     ]
    }
   ],
   "source": [
    "vendas_produtos = [('iphone', 558147, 951642), ('galaxy', 712350, 244295), ('ipad', 573823, 26964), ('tv', 405252, 787604), ('máquina de café', 718654, 867660), ('kindle', 531580, 78830), ('geladeira', 973139, 710331), ('adega', 892292, 646016), ('notebook dell', 422760, 694913), ('notebook hp', 154753, 539704), ('notebook asus', 887061, 324831), ('microsoft surface', 438508, 667179), ('webcam', 237467, 295633), ('caixa de som', 489705, 725316), ('microfone', 328311, 644622), ('câmera canon', 591120, 994303)]\n",
    "\n",
    "produtos = []\n",
    "vendas_2019 = []\n",
    "vendas_2020 = []\n",
    "\n",
    "\n",
    "#usando list comprehension\n",
    "vendas_2019_lc = [venda2019 for produto, venda2019, venda2020 in vendas_produtos]\n",
    "#for produto, venda2019, venda2020 in vendas_produtos:\n",
    "#    produtos.append(produto)\n",
    "#    vendas_2019.append(venda2019)\n",
    "#    vendas_2020.append(venda2020)\n",
    "\n",
    "print (produtos)\n",
    "print (vendas_2019)\n",
    "print (vendas_2020)\n",
    "\n",
    "print (vendas_2019_lc)\n",
    "\n"
   ]
  },
  {
   "cell_type": "markdown",
   "metadata": {},
   "source": [
    "- Agora, qual o maior valor de vendas de 2019?"
   ]
  },
  {
   "cell_type": "code",
   "execution_count": 8,
   "metadata": {},
   "outputs": [
    {
     "name": "stdout",
     "output_type": "stream",
     "text": [
      "973139\n",
      "6\n"
     ]
    }
   ],
   "source": [
    "maiorvenda = max(vendas_2019_lc)\n",
    "print(maiorvenda)\n",
    "indice = vendas_2019_lc.index(maiorvenda)\n",
    "print(indice)"
   ]
  },
  {
   "cell_type": "markdown",
   "metadata": {},
   "source": [
    "- E se eu quisesse descobrir o produto que mais vendeu em 2019?\n",
    "Temos 2 formas de fazer, refazendo o list comprehension ou consultando a lista original"
   ]
  },
  {
   "cell_type": "code",
   "execution_count": 30,
   "metadata": {},
   "outputs": [
    {
     "name": "stdout",
     "output_type": "stream",
     "text": [
      "O produto que mais vendeu em 2019 foi geladeira com a quantidade de 973139.\n",
      "O produto mais vendido foi geladeira e a quantidade foi de 973139.\n"
     ]
    }
   ],
   "source": [
    "#consultando a lista original\n",
    "print(f'O produto que mais vendeu em 2019 foi {vendas_produtos[indice][0]} com a quantidade de {vendas_produtos[indice][1]}.')\n",
    "\n",
    "#refazendo o list comprehension e dicionario\n",
    "venda_produtos_2019 = dict([(produto, venda2019) for produto, venda2019, venda2020 in vendas_produtos])\n",
    "print(f'O produto mais vendido foi {max(venda_produtos_2019, key=lambda x:venda_produtos_2019[x])} e a quantidade foi de {max(venda_produtos_2019.values())}.')\n"
   ]
  },
  {
   "cell_type": "code",
   "execution_count": 31,
   "metadata": {},
   "outputs": [
    {
     "name": "stdout",
     "output_type": "stream",
     "text": [
      "15\n"
     ]
    }
   ],
   "source": [
    "x = lambda a:a+10\n",
    "print(x(5))"
   ]
  }
 ],
 "metadata": {
  "kernelspec": {
   "display_name": "Python 3",
   "language": "python",
   "name": "python3"
  },
  "language_info": {
   "codemirror_mode": {
    "name": "ipython",
    "version": 3
   },
   "file_extension": ".py",
   "mimetype": "text/x-python",
   "name": "python",
   "nbconvert_exporter": "python",
   "pygments_lexer": "ipython3",
   "version": "3.9.13"
  }
 },
 "nbformat": 4,
 "nbformat_minor": 4
}
