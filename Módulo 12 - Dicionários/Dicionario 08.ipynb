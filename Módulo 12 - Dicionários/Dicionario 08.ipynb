{
 "cells": [
  {
   "cell_type": "markdown",
   "metadata": {},
   "source": [
    "# Transformando Listas em Dicionários e Function zip\n",
    "\n",
    "### Estrutura:\n",
    "\n",
    "- Dicionário com valores padrões:\n",
    "\n",
    "dicionario = dict.fromkeys(lista_chaves, valor_padrao)\n",
    "\n",
    "- Dicionário a partir de listas de tuplas:\n",
    "\n",
    "dicionario = dict(lista_tuplas)\n",
    "\n",
    "- Dicionário a partir de 2 listas:\n",
    "\n",
    "Passo 1: Transformar listas em lista de tuplas com o método zip<br>\n",
    "Passo 2: Transformar em dicionario\n",
    "\n",
    "lista_tuplas = zip(lista1, lista2)<br>\n",
    "dicionario = dict(lista_tuplas)"
   ]
  },
  {
   "cell_type": "code",
   "execution_count": 13,
   "metadata": {},
   "outputs": [
    {
     "name": "stdout",
     "output_type": "stream",
     "text": [
      "<zip object at 0x000001509DBA9D40>\n",
      "{'iphone': 15000, 'samsung galaxy': 12000, 'tv samsung': 10000, 'ps5': 14300, 'tablet': 1720, 'ipad': 1000, 'tv philco': 2500, 'notebook hp': 1000, 'notebook dell': 17000, 'notebook asus': 2450}\n"
     ]
    }
   ],
   "source": [
    "produtos = ['iphone', 'samsung galaxy', 'tv samsung', 'ps5', 'tablet', 'ipad', 'tv philco', 'notebook hp', 'notebook dell', 'notebook asus']\n",
    "vendas = [15000, 12000, 10000, 14300, 1720, 1000, 2500, 1000, 17000, 2450]\n",
    "\n",
    "#dicionario = dict.fromkeys(produtos, 10)\n",
    "#print(dicionario)\n",
    "\n",
    "list_tuplas = zip(produtos, vendas)\n",
    "print(list_tuplas)\n",
    "dicionario = dict(list_tuplas)\n",
    "print(dicionario)"
   ]
  },
  {
   "cell_type": "markdown",
   "metadata": {},
   "source": [
    "- Quanto vendemos de ipad?"
   ]
  },
  {
   "cell_type": "code",
   "execution_count": 19,
   "metadata": {},
   "outputs": [
    {
     "name": "stdout",
     "output_type": "stream",
     "text": [
      "O total de ipad foi de 1000\n",
      "O total vendido de ipads foi de 1000.\n"
     ]
    },
    {
     "data": {
      "text/plain": [
       "\" total_ipads = 0\\nlist_tuplas = zip(produtos, vendas)\\ndicionario = dict(list_tuplas)\\nfor chave in dicionario:\\n    if chave == 'ipad':\\n        total_ipads += dicionario[chave]\\nprint(f'O total de ipad vendido por DICT foi de {total_ipads}') \""
      ]
     },
     "execution_count": 19,
     "metadata": {},
     "output_type": "execute_result"
    }
   ],
   "source": [
    "#fazendo por listas\n",
    "indice = produtos.index('ipad')\n",
    "print (f'O total de {produtos[indice]} foi de {vendas[indice]}')\n",
    "\"\"\" total_ipads = 0\n",
    "for i, items in enumerate(produtos):\n",
    "    if items == 'ipad':\n",
    "        total_ipads += vendas[i]\n",
    "\n",
    "print(f'O total de ipad vendido foi de {total_ipads}') \"\"\"\n",
    "\n",
    "#fazendo por dicionario\n",
    "print('O total vendido de ipads foi de {}.'.format(dicionario['ipad']))\n",
    "#print(f'O total vendido de ipads foi de {dicionario['ipad']}.')\n",
    "\"\"\" total_ipads = 0\n",
    "list_tuplas = zip(produtos, vendas)\n",
    "dicionario = dict(list_tuplas)\n",
    "for chave in dicionario:\n",
    "    if chave == 'ipad':\n",
    "        total_ipads += dicionario[chave]\n",
    "print(f'O total de ipad vendido por DICT foi de {total_ipads}') \"\"\"\n"
   ]
  }
 ],
 "metadata": {
  "kernelspec": {
   "display_name": "Python 3",
   "language": "python",
   "name": "python3"
  },
  "language_info": {
   "codemirror_mode": {
    "name": "ipython",
    "version": 3
   },
   "file_extension": ".py",
   "mimetype": "text/x-python",
   "name": "python",
   "nbconvert_exporter": "python",
   "pygments_lexer": "ipython3",
   "version": "3.9.13"
  }
 },
 "nbformat": 4,
 "nbformat_minor": 4
}
