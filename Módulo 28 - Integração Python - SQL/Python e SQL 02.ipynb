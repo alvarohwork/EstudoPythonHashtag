{
 "cells": [
  {
   "cell_type": "markdown",
   "metadata": {},
   "source": [
    "# Biblioteca pyodbc\n",
    "\n",
    "1. Precisamos criar uma conexão com o banco de dados."
   ]
  },
  {
   "cell_type": "raw",
   "metadata": {},
   "source": [
    "dados_conexao = (\"Driver={Seu_Driver};\"\n",
    "                \"Server=SeuServidor;\"\n",
    "                Database=NomeBaseDeDados;\")\n",
    "          \n",
    "Se estivéssemos usando outro sistema de banco de dados, nosso driver mudaria. Para saber em outros casos, execute:\n",
    "pyodbc.drivers() -> caso não encontre seu driver ali, basta buscar no google por \"driver MeuBancoDeDados for pyodbc\" e baixar"
   ]
  },
  {
   "cell_type": "code",
   "execution_count": 2,
   "metadata": {},
   "outputs": [
    {
     "name": "stdout",
     "output_type": "stream",
     "text": [
      "['SQL Server', 'PostgreSQL ODBC Driver(ANSI)', 'PostgreSQL ODBC Driver(UNICODE)', 'Oracle em OraDB21Home1', 'Microsoft Access Driver (*.mdb, *.accdb)', 'Microsoft Excel Driver (*.xls, *.xlsx, *.xlsm, *.xlsb)', 'Microsoft Access Text Driver (*.txt, *.csv)']\n"
     ]
    }
   ],
   "source": [
    "import pyodbc\n",
    "\n",
    "print(pyodbc.drivers())"
   ]
  },
  {
   "cell_type": "code",
   "execution_count": 24,
   "metadata": {},
   "outputs": [
    {
     "name": "stdout",
     "output_type": "stream",
     "text": [
      "conexao bem sucedida\n"
     ]
    }
   ],
   "source": [
    "import pyodbc\n",
    "\n",
    "dados_conexao = (\"Driver={PostgreSQL ODBC Driver(ANSI)};\" \n",
    "                 \"Server=localhost;\" \n",
    "                 \"Port=5432;\" \n",
    "                 \"Database=TesteAHMV;\" \n",
    "                 \"Uid=AHMV;\"\n",
    "                 \"Password=17$Be!Sd;\")\n",
    "\n",
    "conexao = pyodbc.connect(dados_conexao)\n",
    "print (\"conexao bem sucedida\")\n"
   ]
  },
  {
   "cell_type": "markdown",
   "metadata": {},
   "source": [
    "2. Agora, precisamos criar o que o pyodbc chama de cursor, que é basicamente quem vai executar os nossos códigos SQL"
   ]
  },
  {
   "cell_type": "code",
   "execution_count": 22,
   "metadata": {},
   "outputs": [
    {
     "data": {
      "text/plain": [
       "[('San Francisco', '(-194,53)')]"
      ]
     },
     "metadata": {},
     "output_type": "display_data"
    }
   ],
   "source": [
    "cursor = conexao.cursor()\n",
    "cursor.execute(\"select * from cities\")\n",
    "valores = cursor.fetchall()\n",
    "display(valores)\n"
   ]
  },
  {
   "cell_type": "markdown",
   "metadata": {},
   "source": [
    "3. Agora já podemos executar nossos comandos SQL.\n",
    "\n",
    "Temos 2 opções aqui:\n",
    "\n",
    "    1. Apenas Executar comandos SQL que vão acontecer no banco\n",
    "    2. Executar o comando SQL e armazenar a consulta em uma variável no Python, como um dataframe do pandas\n"
   ]
  },
  {
   "cell_type": "raw",
   "metadata": {},
   "source": [
    "dataframe = pd.read_sql('COMANDO_SQL', conexao) -> vai executar o comando SQL, gerando uma consulta e retornando a resposta dessa consulta para o dataframe\n",
    "\n",
    "Para pegar uma tabela inteira do nosso banco de dados, usaremos o comando SQL Select *:\n",
    "\"SELECT * FROM BaseDeDados.Tabela\""
   ]
  },
  {
   "cell_type": "code",
   "execution_count": 23,
   "metadata": {},
   "outputs": [
    {
     "name": "stderr",
     "output_type": "stream",
     "text": [
      "c:\\Users\\alvar\\anaconda3\\lib\\site-packages\\pandas\\io\\sql.py:762: UserWarning: pandas only support SQLAlchemy connectable(engine/connection) ordatabase string URI or sqlite3 DBAPI2 connectionother DBAPI2 objects are not tested, please consider using SQLAlchemy\n",
      "  warnings.warn(\n"
     ]
    },
    {
     "data": {
      "text/html": [
       "<div>\n",
       "<style scoped>\n",
       "    .dataframe tbody tr th:only-of-type {\n",
       "        vertical-align: middle;\n",
       "    }\n",
       "\n",
       "    .dataframe tbody tr th {\n",
       "        vertical-align: top;\n",
       "    }\n",
       "\n",
       "    .dataframe thead th {\n",
       "        text-align: right;\n",
       "    }\n",
       "</style>\n",
       "<table border=\"1\" class=\"dataframe\">\n",
       "  <thead>\n",
       "    <tr style=\"text-align: right;\">\n",
       "      <th></th>\n",
       "      <th>name</th>\n",
       "      <th>location</th>\n",
       "    </tr>\n",
       "  </thead>\n",
       "  <tbody>\n",
       "    <tr>\n",
       "      <th>0</th>\n",
       "      <td>San Francisco</td>\n",
       "      <td>(-194,53)</td>\n",
       "    </tr>\n",
       "  </tbody>\n",
       "</table>\n",
       "</div>"
      ],
      "text/plain": [
       "            name   location\n",
       "0  San Francisco  (-194,53)"
      ]
     },
     "metadata": {},
     "output_type": "display_data"
    }
   ],
   "source": [
    "import pandas as pd\n",
    "dataframe = pd.read_sql('Select * from cities', conexao)\n",
    "display(dataframe)"
   ]
  },
  {
   "cell_type": "code",
   "execution_count": null,
   "metadata": {},
   "outputs": [],
   "source": [
    "conexao.close()"
   ]
  }
 ],
 "metadata": {
  "kernelspec": {
   "display_name": "Python 3 (ipykernel)",
   "language": "python",
   "name": "python3"
  },
  "language_info": {
   "codemirror_mode": {
    "name": "ipython",
    "version": 3
   },
   "file_extension": ".py",
   "mimetype": "text/x-python",
   "name": "python",
   "nbconvert_exporter": "python",
   "pygments_lexer": "ipython3",
   "version": "3.9.13"
  }
 },
 "nbformat": 4,
 "nbformat_minor": 4
}
