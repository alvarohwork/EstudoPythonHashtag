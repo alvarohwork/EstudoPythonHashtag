{
 "cells": [
  {
   "cell_type": "code",
   "execution_count": 53,
   "metadata": {},
   "outputs": [
    {
     "name": "stdout",
     "output_type": "stream",
     "text": [
      "['João', 'cpf:000000', 'idade:50']\n",
      "João\n",
      "cpf:000000\n",
      "idade:50\n",
      "['José', 'cpf:111111', 'idade:20']\n",
      "José\n",
      "cpf:111111\n",
      "idade:20\n",
      "['Maria', 'cpf:222222', 'idade:40']\n",
      "Maria\n",
      "cpf:222222\n",
      "idade:40\n"
     ]
    }
   ],
   "source": [
    "pessoas = [\n",
    "    ['João', 'cpf:000000', 'idade:50'],\n",
    "    ['José', 'cpf:111111', 'idade:20'],\n",
    "    ['Maria', 'cpf:222222', 'idade:40']\n",
    "]\n",
    "\n",
    "for lista in pessoas:\n",
    "    print (lista)\n",
    "    for dados in lista:\n",
    "        print(dados)"
   ]
  },
  {
   "cell_type": "code",
   "execution_count": 44,
   "metadata": {},
   "outputs": [
    {
     "name": "stdout",
     "output_type": "stream",
     "text": [
      "200\n",
      "300\n",
      "500\n",
      "[[100, 200], [300, 50], [500, 600]]\n",
      "[[100, 200, 10], [300, 50, 20], [500, 600, 30]]\n"
     ]
    }
   ],
   "source": [
    "vendas = [\n",
    "    [100, 200],\n",
    "    [300, 400],\n",
    "    [500, 600],\n",
    "]\n",
    "\n",
    "print (vendas[0][1])\n",
    "print (vendas[1] [0])\n",
    "print (vendas [2][0])\n",
    "\n",
    "vendas[1][1] = 50\n",
    "\n",
    "print (vendas)\n",
    "\n",
    "vendas_mac = [10,20,30]\n",
    "vendas[0].append(vendas_mac[0])\n",
    "vendas[1].append(vendas_mac[1])\n",
    "vendas[2].append(vendas_mac[2])\n",
    "print(vendas)"
   ]
  },
  {
   "cell_type": "code",
   "execution_count": 46,
   "metadata": {},
   "outputs": [
    {
     "name": "stdout",
     "output_type": "stream",
     "text": [
      "['tv', 'celular', 'tablet', 'aaa', 'geladeira', 'celular', 'AAA', 'bagaça']\n",
      "['tv', 'celular', 'tablet', 'aaa', 'geladeira', 'celular', 'AAA', 'bagaça']\n",
      "['tv', 'celular', 'tablet', 'aaa', 'geladeira', 'celular', 'AAA', 'bagaça']\n",
      "['tv', 'celular', 'tablet', 'aaa', 'geladeira', 'celular', 'AAA', 'bagaça', 'Item Teste', 'Item Teste1000']\n",
      "['tv', 'celular', 'tablet', 'aaa', 'geladeira', 'celular', 'AAA', 'bagaça', 'Item Teste', 'Item Teste2', 'Item Teste3']\n",
      "['tv', 'celular', 'tablet', 'aaa', 'geladeira', 'celular', 'AAA', 'bagaça']\n"
     ]
    }
   ],
   "source": [
    "produtos = ['tv', 'celular', 'tablet', 'aaa', 'geladeira', 'celular', 'AAA', 'bagaça']\n",
    "produtoscopia = produtos\n",
    "produtoscopia2 = produtos.copy()\n",
    "\n",
    "print(produtos)\n",
    "print(produtoscopia)\n",
    "print(produtoscopia2)\n",
    "produtos.append('Item Teste')\n",
    "produtoscopia = produtoscopia + ['Item Teste2', 'Item Teste3']\n",
    "produtos.append('Item Teste1000')\n",
    "print(produtos)\n",
    "print(produtoscopia)\n",
    "print(produtoscopia2)\n",
    "\n"
   ]
  },
  {
   "cell_type": "code",
   "execution_count": null,
   "metadata": {},
   "outputs": [],
   "source": [
    "produtos.sort(reverse=True)\n",
    "#print(', '.join(produtos))\n",
    "teste = ', '.join(produtos)\n",
    "teste2 = '\\n'.join(produtos)\n",
    "print (produtos)\n",
    "\n",
    "print(teste)\n",
    "print(teste2)\n",
    "\n",
    "lista1 = teste.split(', ')\n",
    "print (f'lista 1 => {lista1}')\n",
    "\n",
    "lista2 = teste2.split('\\n')\n",
    "print(f'lista2 => {lista2}')\n",
    "\n",
    "i = produtos.index('celular')\n",
    "print (i)\n",
    "\n",
    "#print(max(produtos))\n",
    "#print(min(produtos))\n",
    "\n",
    "#produtos.remove('celular')\n",
    "valor_anterior = produtos.pop(i)\n",
    "print(produtos)\n",
    "print(valor_anterior)\n",
    "\n",
    "print(len(produtos))\n",
    "#print(max(produtos))\n",
    "#print(min(produtos))"
   ]
  }
 ],
 "metadata": {
  "kernelspec": {
   "display_name": "base",
   "language": "python",
   "name": "python3"
  },
  "language_info": {
   "codemirror_mode": {
    "name": "ipython",
    "version": 3
   },
   "file_extension": ".py",
   "mimetype": "text/x-python",
   "name": "python",
   "nbconvert_exporter": "python",
   "pygments_lexer": "ipython3",
   "version": "3.9.13"
  }
 },
 "nbformat": 4,
 "nbformat_minor": 2
}
